{
 "cells": [
  {
   "cell_type": "markdown",
   "id": "8e3bbb5e-859b-40f1-943d-0cb2c356abea",
   "metadata": {
    "jp-MarkdownHeadingCollapsed": true,
    "tags": []
   },
   "source": [
    "# 1. Import and Data"
   ]
  },
  {
   "cell_type": "code",
   "execution_count": 74,
   "id": "4c860bbf-53a1-41af-b6a7-5956e8752615",
   "metadata": {
    "executionInfo": {
     "elapsed": 847,
     "status": "ok",
     "timestamp": 1647270682776,
     "user": {
      "displayName": "Yassine Amaghoss",
      "photoUrl": "https://lh3.googleusercontent.com/a-/AOh14GjRgO0CFu7BasBXinp3d9NuoQ5F5m0HhxwbmAR9iA=s64",
      "userId": "07523928529984448301"
     },
     "user_tz": -60
    },
    "id": "AY8KJXfSs3JL"
   },
   "outputs": [],
   "source": [
    "import numpy as np\n",
    "import pandas as pd \n",
    "import scipy.io as sio\n",
    "import matplotlib.pyplot as plt\n",
    "from tqdm import tqdm\n",
    "\n",
    "from sklearn.model_selection import train_test_split\n",
    "from sklearn.datasets import load_digits\n",
    "from mlxtend.data import loadlocal_mnist\n",
    "from sklearn.preprocessing import OneHotEncoder"
   ]
  },
  {
   "cell_type": "code",
   "execution_count": 75,
   "id": "6720bce4-16f0-4169-abbb-2f4ab14ef188",
   "metadata": {
    "colab": {
     "base_uri": "https://localhost:8080/",
     "height": 432
    },
    "executionInfo": {
     "elapsed": 767,
     "status": "error",
     "timestamp": 1647270703855,
     "user": {
      "displayName": "Yassine Amaghoss",
      "photoUrl": "https://lh3.googleusercontent.com/a-/AOh14GjRgO0CFu7BasBXinp3d9NuoQ5F5m0HhxwbmAR9iA=s64",
      "userId": "07523928529984448301"
     },
     "user_tz": -60
    },
    "id": "BYCXQzfDt1r9",
    "outputId": "9f0ab891-cb5f-4c3b-bbc4-e7db26473499"
   },
   "outputs": [],
   "source": [
    "mat_content = sio.loadmat(\"binaryalphadigs.mat\")"
   ]
  },
  {
   "cell_type": "code",
   "execution_count": 76,
   "id": "50ae9731-4cae-409d-8239-fa2588ae95cc",
   "metadata": {
    "executionInfo": {
     "elapsed": 95,
     "status": "aborted",
     "timestamp": 1647270683642,
     "user": {
      "displayName": "Yassine Amaghoss",
      "photoUrl": "https://lh3.googleusercontent.com/a-/AOh14GjRgO0CFu7BasBXinp3d9NuoQ5F5m0HhxwbmAR9iA=s64",
      "userId": "07523928529984448301"
     },
     "user_tz": -60
    },
    "id": "IGTD-XnTwK8Y"
   },
   "outputs": [
    {
     "data": {
      "text/plain": [
       "<matplotlib.image.AxesImage at 0x7fc3acd15bb0>"
      ]
     },
     "execution_count": 76,
     "metadata": {},
     "output_type": "execute_result"
    },
    {
     "data": {
      "image/png": "[encoded data removed]",
      "text/plain": [
       "<Figure size 432x288 with 1 Axes>"
      ]
     },
     "metadata": {
      "needs_background": "light"
     },
     "output_type": "display_data"
    }
   ],
   "source": [
    "plt.imshow(mat_content['dat'][1][1], cmap='gray')"
   ]
  },
  {
   "cell_type": "code",
   "execution_count": 77,
   "id": "7d539840-4ab1-41af-b81b-56ee58001eed",
   "metadata": {
    "executionInfo": {
     "elapsed": 95,
     "status": "aborted",
     "timestamp": 1647270683643,
     "user": {
      "displayName": "Yassine Amaghoss",
      "photoUrl": "https://lh3.googleusercontent.com/a-/AOh14GjRgO0CFu7BasBXinp3d9NuoQ5F5m0HhxwbmAR9iA=s64",
      "userId": "07523928529984448301"
     },
     "user_tz": -60
    },
    "id": "xF9eOg7USWYO"
   },
   "outputs": [],
   "source": [
    "def lire_alpha_digit(dataset, list_idx):\n",
    "    imgs_set = dataset[list_idx,:].flatten()\n",
    "    imgs_flatten = []\n",
    "\n",
    "    for img in imgs_set:\n",
    "        imgs_flatten.append(img.flatten())\n",
    "\n",
    "    imgs_set_output = np.array(imgs_flatten)\n",
    "\n",
    "    return imgs_set_output"
   ]
  },
  {
   "cell_type": "code",
   "execution_count": 110,
   "id": "d59a6753-337f-4b82-ab6a-17e62670d881",
   "metadata": {
    "executionInfo": {
     "elapsed": 97,
     "status": "aborted",
     "timestamp": 1647270683645,
     "user": {
      "displayName": "Yassine Amaghoss",
      "photoUrl": "https://lh3.googleusercontent.com/a-/AOh14GjRgO0CFu7BasBXinp3d9NuoQ5F5m0HhxwbmAR9iA=s64",
      "userId": "07523928529984448301"
     },
     "user_tz": -60
    },
    "id": "EEEpHwRuTtbn"
   },
   "outputs": [],
   "source": [
    "# We choose to generate the letter 'F'\n",
    "list_idx = [15]\n",
    "images =lire_alpha_digit(dataset=mat_content['dat'], list_idx=list_idx)"
   ]
  },
  {
   "cell_type": "markdown",
   "id": "546a9300-13e9-4e46-b27a-82cd37177f53",
   "metadata": {
    "jp-MarkdownHeadingCollapsed": true,
    "tags": []
   },
   "source": [
    "# 2. Restricted Boltzmann Machine (RBM) on Binary AlphaDigits"
   ]
  },
  {
   "cell_type": "code",
   "execution_count": 111,
   "id": "83620bee-ddbf-4008-8f38-dfcc88f213f1",
   "metadata": {},
   "outputs": [],
   "source": [
    "# Creation of functions sigmoid and softmax\n",
    "def sigmoid(x):\n",
    "    return 1 / (1 + np.exp(x))\n",
    "\n",
    "\n",
    "def softmax(x):\n",
    "    return np.exp(x) / np.sum(np.exp(x), axis=1).reshape(-1, 1)"
   ]
  },
  {
   "cell_type": "code",
   "execution_count": 168,
   "id": "a354d540-10c4-4912-b72d-8e08b38e39d1",
   "metadata": {},
   "outputs": [],
   "source": [
    "#Define the RBM class\n",
    "class RBM():\n",
    "    \n",
    "    def __init__(self, p, q):\n",
    "        # Set number of visible and hidden units\n",
    "        self.p = p\n",
    "        self.q = q\n",
    "        # Initialize weights randomly with normal distribution\n",
    "        self.W = np.random.normal(loc=0, scale=0.01, size=(p, q))\n",
    "        # Initialize biases to zero\n",
    "        self.a = np.zeros(p)\n",
    "        self.b = np.zeros(q)\n",
    "    \n",
    "    # Function to compute the hidden probabilities and activations\n",
    "    def entree_sortie_RBM(self, X, act='sigmoid'):\n",
    "        # Compute the activations of the hidden layer\n",
    "        proj = X @ self.W + self.b\n",
    "        if act=='sigmoid':\n",
    "        # Compute the probabilities of the hidden layer given the input\n",
    "            p_h = sigmoid(-proj)\n",
    "        else:\n",
    "            p_h = softmax(-proj)\n",
    "        # Sample from the probabilities to get the binary states of the hidden layer\n",
    "        h = 1 * (np.random.rand(*p_h.shape) < p_h)\n",
    "        return p_h, h\n",
    "\n",
    "    # Function to compute the visible probabilities and activations\n",
    "    def sortie_entree_RBM(self, Y):\n",
    "        # Compute the activations of the visible layer\n",
    "        proj = Y @ self.W.T + self.a\n",
    "        # Compute the probabilities of the visible layer given the hidden layer\n",
    "        p_v = sigmoid(-proj)\n",
    "        # Sample from the probabilities to get the binary states of the visible layer\n",
    "        v = 1 * (np.random.rand(*p_v.shape) < p_v)\n",
    "        return p_v, v\n",
    "\n",
    "    # Function to train the RBM\n",
    "    def train_RBM(self, data, epochs=10000, learning_rate=0.01, batch_size=50, verbose=True):\n",
    "        # Set number of samples in the dataset\n",
    "        n_samples = data.shape[0]\n",
    "        # Initialize the loss array\n",
    "        loss = []\n",
    "\n",
    "        # Loop over the number of epochs\n",
    "        for epoch in range(1, epochs + 1):\n",
    "            # Shuffle the data\n",
    "            data2 = np.copy(data)\n",
    "            np.random.shuffle(data2)\n",
    "\n",
    "            # Loop over the batches\n",
    "            for batch in range(0, n_samples, batch_size):\n",
    "                # Get the indices of the current batch\n",
    "                batch_indices = np.arange(batch, min(batch + batch_size, n_samples))\n",
    "                # Get the current batch\n",
    "                x = data2[batch_indices, :]\n",
    "                # Set the initial visible activations to the input\n",
    "                v0 = x\n",
    "                # Compute the hidden probabilities and activations\n",
    "                p_hv0, h0 = self.entree_sortie_RBM(v0)\n",
    "                # Compute the visible probabilities and activations\n",
    "                p_vh0, v1 = self.sortie_entree_RBM(h0)\n",
    "                # Compute the hidden probabilities and activations again\n",
    "                p_hv1, h1 = self.entree_sortie_RBM(v1)\n",
    "\n",
    "                # Compute the gradient\n",
    "                grad_a = np.mean(v0 - v1, axis=0)\n",
    "                grad_b = np.mean(p_hv0 - p_hv1, axis=0)\n",
    "                grad_W = v0.T @ p_hv0 - v1.T @ p_hv1\n",
    "\n",
    "                # Update the weights and biases\n",
    "                self.a += learning_rate * grad_a\n",
    "                self.b += learning_rate * grad_b\n",
    "                self.W += learning_rate * grad_W\n",
    "\n",
    "            # Compute the loss on the training set\n",
    "            output, _ = self.entree_sortie_RBM(data2)\n",
    "            reconstructed_input, _ = self.sortie_entree_RBM(output)\n",
    "            size = n_samples * self.p\n",
    "            loss.append(np.sum((reconstructed_input - data2)**2) / size)\n",
    "            if verbose:\n",
    "                if not(epoch % 20) or epoch == 1:\n",
    "                    print(f'Epoch {epoch} out of {epochs}, loss: {loss[-1]}')\n",
    "\n",
    "        return self, loss\n",
    "\n",
    "    def generer_image_RBM(self, n_imgs, n_iter, dataset='alphadigit'):\n",
    "        fig = plt.figure()\n",
    "        fig.patch.set_facecolor('black')\n",
    "        if dataset == 'alphadigit':\n",
    "            shape = (20, 16)\n",
    "        elif dataset == 'mnist':\n",
    "            shape = (28, 28)\n",
    "        for i in range(n_imgs):\n",
    "            v = 1 * (np.random.rand(self.p) < 0.5)\n",
    "            v = v.reshape(1, v.shape[0])\n",
    "            for j in range(n_iter):\n",
    "                _, h = self.entree_sortie_RBM(v)\n",
    "                _, v = self.sortie_entree_RBM(h)\n",
    "            plt.subplot(n_imgs // 5, 5, i + 1)\n",
    "            plt.imshow(v.reshape(shape), cmap='gray')\n",
    "            plt.axis('off')\n",
    "        plt.show()\n"
   ]
  },
  {
   "cell_type": "code",
   "execution_count": 96,
   "id": "4aed0c43-5f2c-4fe7-9f54-64321be5ae93",
   "metadata": {},
   "outputs": [
    {
     "name": "stdout",
     "output_type": "stream",
     "text": [
      "Epoch 1 out of 500, loss: 0.19207928254650222\n",
      "Epoch 20 out of 500, loss: 0.08075209803433016\n",
      "Epoch 40 out of 500, loss: 0.04035792444769147\n",
      "Epoch 60 out of 500, loss: 0.01905594745984566\n",
      "Epoch 80 out of 500, loss: 0.009434800004863459\n",
      "Epoch 100 out of 500, loss: 0.005075002477346229\n",
      "Epoch 120 out of 500, loss: 0.003278164169813015\n",
      "Epoch 140 out of 500, loss: 0.0022567273841012122\n",
      "Epoch 160 out of 500, loss: 0.001546449375054348\n",
      "Epoch 180 out of 500, loss: 0.0011361031364794207\n",
      "Epoch 200 out of 500, loss: 0.0009079390591412085\n",
      "Epoch 220 out of 500, loss: 0.0007056713384178644\n",
      "Epoch 240 out of 500, loss: 0.000592155017019636\n",
      "Epoch 260 out of 500, loss: 0.0004964175728422244\n",
      "Epoch 280 out of 500, loss: 0.00041879502921559134\n",
      "Epoch 300 out of 500, loss: 0.0003605197226348184\n",
      "Epoch 320 out of 500, loss: 0.00029203017255967156\n",
      "Epoch 340 out of 500, loss: 0.00026685105845827525\n",
      "Epoch 360 out of 500, loss: 0.00022869873206280927\n",
      "Epoch 380 out of 500, loss: 0.0001982742301649307\n",
      "Epoch 400 out of 500, loss: 0.00017351241233587499\n",
      "Epoch 420 out of 500, loss: 0.00016244215271535515\n",
      "Epoch 440 out of 500, loss: 0.00014016347284650084\n",
      "Epoch 460 out of 500, loss: 0.000125433293557243\n",
      "Epoch 480 out of 500, loss: 0.00012239504435719494\n",
      "Epoch 500 out of 500, loss: 0.00010846357312016887\n"
     ]
    },
    {
     "data": {
      "image/png": "[encoded data removed]",
      "text/plain": [
       "<Figure size 432x288 with 1 Axes>"
      ]
     },
     "metadata": {
      "needs_background": "light"
     },
     "output_type": "display_data"
    },
    {
     "data": {
      "image/png": "[encoded data removed]",
      "text/plain": [
       "<Figure size 432x288 with 10 Axes>"
      ]
     },
     "metadata": {},
     "output_type": "display_data"
    }
   ],
   "source": [
    "#Set the number of visible units and number of hidden units\n",
    "p = 20*16\n",
    "q = 250\n",
    "\n",
    "#Initialize a RBM object with p visible units and q hidden units\n",
    "rbm = RBM(p, q)\n",
    "\n",
    "#Set the hyperparameters for training the RBM\n",
    "epochs = 500\n",
    "learning_rate = 0.01\n",
    "batch_size = 10\n",
    "\n",
    "#Train the RBM on a dataset of images and get the trained RBM and the loss\n",
    "RBM_trained, loss = rbm.train_RBM(images, epochs, learning_rate, batch_size)\n",
    "\n",
    "#Plot the evolution of the loss during training\n",
    "plt.plot(loss)\n",
    "plt.title(\"Evolution of the loss during training\")\n",
    "plt.show()\n",
    "\n",
    "#Generate new images from the trained RBM and display them\n",
    "n_iter = 1000\n",
    "n_imgs = 10\n",
    "RBM_trained.generer_image_RBM(n_imgs, n_iter)"
   ]
  },
  {
   "cell_type": "markdown",
   "id": "c4bd152e-8823-4d1a-bb34-c063bd0d9ed8",
   "metadata": {
    "jp-MarkdownHeadingCollapsed": true,
    "tags": []
   },
   "source": [
    "# 3. Deep Belief Network (DBN) on Binary AlphaDigits"
   ]
  },
  {
   "cell_type": "code",
   "execution_count": 8,
   "id": "31526818-d312-4e42-b007-70ad3263a896",
   "metadata": {},
   "outputs": [],
   "source": [
    "#Define the DBN class\n",
    "class DBN():\n",
    "    # Initialize the number of neurons in each layer of the DBN with a list of integers\n",
    "    def __init__(self, neurons):\n",
    "        self.RBMs_list = []\n",
    "        for i in range(len(neurons) - 1):\n",
    "            self.RBMs_list.append(RBM(neurons[i], neurons[i+1]))\n",
    "\n",
    "    def pretrain_DBN(self, data, n_epoch=10000, lr_rate=0.01, batch_size=50, verbose = True):\n",
    "        losses = []\n",
    "        for rbm in self.RBMs_list:\n",
    "            rbm, loss = rbm.train_RBM(data, n_epoch, lr_rate, batch_size, verbose = verbose)\n",
    "            _, data = rbm.entree_sortie_RBM(data)\n",
    "            losses.append(loss)\n",
    "        return self, losses\n",
    "\n",
    "    def generer_image_DBN(self, n_imgs, n_iter, dataset='alphadigit'):\n",
    "        fig = plt.figure()\n",
    "        fig.patch.set_facecolor('black')\n",
    "        if dataset == 'alphadigit':\n",
    "            shape = (20, 16)\n",
    "        elif dataset == 'mnist':\n",
    "            shape = (28, 28)\n",
    "        for i in range(n_imgs):\n",
    "            data = 1 * (np.random.rand(self.RBMs_list[0].p) < 0.5)\n",
    "            data = data.reshape(1, data.shape[0])\n",
    "            for itr in range(n_iter):\n",
    "                for rbm in self.RBMs_list:\n",
    "                    _, data = rbm.entree_sortie_RBM(data)\n",
    "                for rbm in reversed(self.RBMs_list):\n",
    "                    _, data = rbm.sortie_entree_RBM(data)\n",
    "            plt.subplot(n_imgs // 5, 5, i + 1)\n",
    "            plt.imshow(data.reshape(shape), cmap='gray')\n",
    "            plt.axis('off')\n",
    "        plt.show()"
   ]
  },
  {
   "cell_type": "code",
   "execution_count": 138,
   "id": "1a1206bf-7287-462d-a983-182a129ed1fd",
   "metadata": {},
   "outputs": [
    {
     "name": "stdout",
     "output_type": "stream",
     "text": [
      "Epoch 1 out of 2000, loss: 0.19250909570327815\n",
      "Epoch 20 out of 2000, loss: 0.16904519987533168\n",
      "Epoch 40 out of 2000, loss: 0.14566101855218158\n",
      "Epoch 60 out of 2000, loss: 0.11586919741867115\n",
      "Epoch 80 out of 2000, loss: 0.10728526945552386\n",
      "Epoch 100 out of 2000, loss: 0.09891518150072905\n",
      "Epoch 120 out of 2000, loss: 0.09027717678903521\n",
      "Epoch 140 out of 2000, loss: 0.08310476506159778\n",
      "Epoch 160 out of 2000, loss: 0.07665494079532542\n",
      "Epoch 180 out of 2000, loss: 0.0709757450694182\n",
      "Epoch 200 out of 2000, loss: 0.06584530165140833\n",
      "Epoch 220 out of 2000, loss: 0.06146043824634364\n",
      "Epoch 240 out of 2000, loss: 0.05659238626910377\n",
      "Epoch 260 out of 2000, loss: 0.05243323561765123\n",
      "Epoch 280 out of 2000, loss: 0.04823119204286455\n",
      "Epoch 300 out of 2000, loss: 0.0445318511188874\n",
      "Epoch 320 out of 2000, loss: 0.04084801100489839\n",
      "Epoch 340 out of 2000, loss: 0.03749273886442248\n",
      "Epoch 360 out of 2000, loss: 0.034110554335821955\n",
      "Epoch 380 out of 2000, loss: 0.031171470241088222\n",
      "Epoch 400 out of 2000, loss: 0.02853712377506807\n",
      "Epoch 420 out of 2000, loss: 0.0259229907243215\n",
      "Epoch 440 out of 2000, loss: 0.02358501963509421\n",
      "Epoch 460 out of 2000, loss: 0.02143855566818343\n",
      "Epoch 480 out of 2000, loss: 0.019584366438970664\n",
      "Epoch 500 out of 2000, loss: 0.017905991672331274\n",
      "Epoch 520 out of 2000, loss: 0.016246671787914484\n",
      "Epoch 540 out of 2000, loss: 0.014842364671575677\n",
      "Epoch 560 out of 2000, loss: 0.013532599889653944\n",
      "Epoch 580 out of 2000, loss: 0.012489746950428518\n",
      "Epoch 600 out of 2000, loss: 0.011458956456222354\n",
      "Epoch 620 out of 2000, loss: 0.010450421529878932\n",
      "Epoch 640 out of 2000, loss: 0.009649243309296314\n",
      "Epoch 660 out of 2000, loss: 0.008811760045905366\n",
      "Epoch 680 out of 2000, loss: 0.008192922644521108\n",
      "Epoch 700 out of 2000, loss: 0.007561756465324693\n",
      "Epoch 720 out of 2000, loss: 0.006960099929384745\n",
      "Epoch 740 out of 2000, loss: 0.006486496599440434\n",
      "Epoch 760 out of 2000, loss: 0.006004517134446144\n",
      "Epoch 780 out of 2000, loss: 0.005586489243417169\n",
      "Epoch 800 out of 2000, loss: 0.0052417875898265855\n",
      "Epoch 820 out of 2000, loss: 0.004800956678764003\n",
      "Epoch 840 out of 2000, loss: 0.004543694040803458\n",
      "Epoch 860 out of 2000, loss: 0.0042780949971164385\n",
      "Epoch 880 out of 2000, loss: 0.003972505249997954\n",
      "Epoch 900 out of 2000, loss: 0.003769611370008639\n",
      "Epoch 920 out of 2000, loss: 0.0034956306503321154\n",
      "Epoch 940 out of 2000, loss: 0.0033147373859815222\n",
      "Epoch 960 out of 2000, loss: 0.0031076545917563827\n",
      "Epoch 980 out of 2000, loss: 0.0029571568805184744\n",
      "Epoch 1000 out of 2000, loss: 0.0027896660533263578\n",
      "Epoch 1020 out of 2000, loss: 0.002621288518822765\n",
      "Epoch 1040 out of 2000, loss: 0.0024883984501510655\n",
      "Epoch 1060 out of 2000, loss: 0.0023546133157234628\n",
      "Epoch 1080 out of 2000, loss: 0.002268600179804132\n",
      "Epoch 1100 out of 2000, loss: 0.0021558950966403794\n",
      "Epoch 1120 out of 2000, loss: 0.002049248082803348\n",
      "Epoch 1140 out of 2000, loss: 0.0019431867992695186\n",
      "Epoch 1160 out of 2000, loss: 0.001847200978925123\n",
      "Epoch 1180 out of 2000, loss: 0.0017700757580423642\n",
      "Epoch 1200 out of 2000, loss: 0.0016836881276982368\n",
      "Epoch 1220 out of 2000, loss: 0.001600214446359337\n",
      "Epoch 1240 out of 2000, loss: 0.0015554398245723473\n",
      "Epoch 1260 out of 2000, loss: 0.0015029984973328576\n",
      "Epoch 1280 out of 2000, loss: 0.0014260593131948448\n",
      "Epoch 1300 out of 2000, loss: 0.0013566100512201645\n",
      "Epoch 1320 out of 2000, loss: 0.0013355576957007772\n",
      "Epoch 1340 out of 2000, loss: 0.0012615669611378798\n",
      "Epoch 1360 out of 2000, loss: 0.001213776670729651\n",
      "Epoch 1380 out of 2000, loss: 0.0011746045891060542\n",
      "Epoch 1400 out of 2000, loss: 0.0011217095508041452\n",
      "Epoch 1420 out of 2000, loss: 0.0010864135509078292\n",
      "Epoch 1440 out of 2000, loss: 0.0010476857717771591\n",
      "Epoch 1460 out of 2000, loss: 0.0010212612188678217\n",
      "Epoch 1480 out of 2000, loss: 0.0009846376659003214\n",
      "Epoch 1500 out of 2000, loss: 0.0009434901369392896\n",
      "Epoch 1520 out of 2000, loss: 0.000910253132130568\n",
      "Epoch 1540 out of 2000, loss: 0.0008826931419657179\n",
      "Epoch 1560 out of 2000, loss: 0.0008462965053423169\n",
      "Epoch 1580 out of 2000, loss: 0.0008258302455088987\n",
      "Epoch 1600 out of 2000, loss: 0.0008011863380775767\n",
      "Epoch 1620 out of 2000, loss: 0.0007721770493282111\n",
      "Epoch 1640 out of 2000, loss: 0.000750300747859344\n",
      "Epoch 1660 out of 2000, loss: 0.0007327491831178763\n",
      "Epoch 1680 out of 2000, loss: 0.0007088501127806462\n",
      "Epoch 1700 out of 2000, loss: 0.000687126195209219\n",
      "Epoch 1720 out of 2000, loss: 0.0006710781392729477\n",
      "Epoch 1740 out of 2000, loss: 0.0006617694649713134\n",
      "Epoch 1760 out of 2000, loss: 0.0006395148198821735\n",
      "Epoch 1780 out of 2000, loss: 0.0006135040464132077\n",
      "Epoch 1800 out of 2000, loss: 0.0006036121982059157\n",
      "Epoch 1820 out of 2000, loss: 0.0005862903904553301\n",
      "Epoch 1840 out of 2000, loss: 0.000572936055348099\n",
      "Epoch 1860 out of 2000, loss: 0.0005530334660895196\n",
      "Epoch 1880 out of 2000, loss: 0.0005363896688790673\n",
      "Epoch 1900 out of 2000, loss: 0.0005206999552829449\n",
      "Epoch 1920 out of 2000, loss: 0.0005180246900326362\n",
      "Epoch 1940 out of 2000, loss: 0.0004982648059473462\n",
      "Epoch 1960 out of 2000, loss: 0.0004855045347367697\n",
      "Epoch 1980 out of 2000, loss: 0.0004818196859363688\n",
      "Epoch 2000 out of 2000, loss: 0.00046997706517668854\n",
      "Epoch 1 out of 2000, loss: 0.23270878854403396\n",
      "Epoch 20 out of 2000, loss: 0.21830072562374542\n",
      "Epoch 40 out of 2000, loss: 0.1846803339541861\n",
      "Epoch 60 out of 2000, loss: 0.13696147557129407\n",
      "Epoch 80 out of 2000, loss: 0.1259437458447811\n",
      "Epoch 100 out of 2000, loss: 0.11639498739143198\n",
      "Epoch 120 out of 2000, loss: 0.10541377217845989\n",
      "Epoch 140 out of 2000, loss: 0.09521832535836702\n",
      "Epoch 160 out of 2000, loss: 0.0869940713783796\n",
      "Epoch 180 out of 2000, loss: 0.07935652048717905\n",
      "Epoch 200 out of 2000, loss: 0.07245334887639134\n",
      "Epoch 220 out of 2000, loss: 0.06653220746967489\n",
      "Epoch 240 out of 2000, loss: 0.06168900458271732\n",
      "Epoch 260 out of 2000, loss: 0.05712874656503152\n",
      "Epoch 280 out of 2000, loss: 0.053349242420843726\n",
      "Epoch 300 out of 2000, loss: 0.04983544091796209\n",
      "Epoch 320 out of 2000, loss: 0.046501338565165105\n",
      "Epoch 340 out of 2000, loss: 0.04344295636898517\n",
      "Epoch 360 out of 2000, loss: 0.040398875742780956\n",
      "Epoch 380 out of 2000, loss: 0.03758581931841179\n",
      "Epoch 400 out of 2000, loss: 0.03500647095086603\n",
      "Epoch 420 out of 2000, loss: 0.03260941539047441\n",
      "Epoch 440 out of 2000, loss: 0.030417604773488715\n",
      "Epoch 460 out of 2000, loss: 0.02823880949583369\n",
      "Epoch 480 out of 2000, loss: 0.02648887725977439\n",
      "Epoch 500 out of 2000, loss: 0.02475253652274302\n",
      "Epoch 520 out of 2000, loss: 0.023062877508500394\n",
      "Epoch 540 out of 2000, loss: 0.021508178675540286\n",
      "Epoch 560 out of 2000, loss: 0.02016588769553938\n",
      "Epoch 580 out of 2000, loss: 0.018831760343007396\n",
      "Epoch 600 out of 2000, loss: 0.01768409660850246\n",
      "Epoch 620 out of 2000, loss: 0.0165887567567429\n",
      "Epoch 640 out of 2000, loss: 0.015629159735895588\n",
      "Epoch 660 out of 2000, loss: 0.014632160682999664\n",
      "Epoch 680 out of 2000, loss: 0.013743588706916348\n",
      "Epoch 700 out of 2000, loss: 0.01288932299880039\n",
      "Epoch 720 out of 2000, loss: 0.012209448835367996\n",
      "Epoch 740 out of 2000, loss: 0.011505815321529052\n",
      "Epoch 760 out of 2000, loss: 0.010746608275309747\n",
      "Epoch 780 out of 2000, loss: 0.01019102422346703\n",
      "Epoch 800 out of 2000, loss: 0.009601250395072659\n",
      "Epoch 820 out of 2000, loss: 0.009006694019967123\n",
      "Epoch 840 out of 2000, loss: 0.008651359926858745\n",
      "Epoch 860 out of 2000, loss: 0.008074039678555139\n",
      "Epoch 880 out of 2000, loss: 0.007671145085464933\n",
      "Epoch 900 out of 2000, loss: 0.007256960142746968\n",
      "Epoch 920 out of 2000, loss: 0.006889601614199021\n",
      "Epoch 940 out of 2000, loss: 0.006520827662814949\n",
      "Epoch 960 out of 2000, loss: 0.0061930551460969915\n",
      "Epoch 980 out of 2000, loss: 0.005938325420235377\n",
      "Epoch 1000 out of 2000, loss: 0.005638421480911796\n",
      "Epoch 1020 out of 2000, loss: 0.00535725126066316\n",
      "Epoch 1040 out of 2000, loss: 0.005104524357896868\n",
      "Epoch 1060 out of 2000, loss: 0.004865508232013858\n",
      "Epoch 1080 out of 2000, loss: 0.0046257879679576725\n",
      "Epoch 1100 out of 2000, loss: 0.004463463773469739\n",
      "Epoch 1120 out of 2000, loss: 0.004251511660172019\n",
      "Epoch 1140 out of 2000, loss: 0.004063736299041085\n",
      "Epoch 1160 out of 2000, loss: 0.0038670747841500004\n",
      "Epoch 1180 out of 2000, loss: 0.0037192411168045785\n",
      "Epoch 1200 out of 2000, loss: 0.0035302274852122557\n",
      "Epoch 1220 out of 2000, loss: 0.0033959286935794897\n",
      "Epoch 1240 out of 2000, loss: 0.0032699850857628803\n",
      "Epoch 1260 out of 2000, loss: 0.0031455124610306044\n",
      "Epoch 1280 out of 2000, loss: 0.003027086646350696\n",
      "Epoch 1300 out of 2000, loss: 0.002914895336089666\n",
      "Epoch 1320 out of 2000, loss: 0.0027972590196347746\n",
      "Epoch 1340 out of 2000, loss: 0.00270213837319262\n",
      "Epoch 1360 out of 2000, loss: 0.002593797948848719\n",
      "Epoch 1380 out of 2000, loss: 0.002485794849576371\n",
      "Epoch 1400 out of 2000, loss: 0.0024120458201928323\n",
      "Epoch 1420 out of 2000, loss: 0.002315204100518889\n",
      "Epoch 1440 out of 2000, loss: 0.0022399778473436594\n",
      "Epoch 1460 out of 2000, loss: 0.002172792187697679\n",
      "Epoch 1480 out of 2000, loss: 0.0021058590815338325\n",
      "Epoch 1500 out of 2000, loss: 0.0020142552949567972\n",
      "Epoch 1520 out of 2000, loss: 0.0019566349415179665\n",
      "Epoch 1540 out of 2000, loss: 0.0018959557626111697\n",
      "Epoch 1560 out of 2000, loss: 0.0018538772275379022\n",
      "Epoch 1580 out of 2000, loss: 0.0017998215915096805\n",
      "Epoch 1600 out of 2000, loss: 0.0017481761985010129\n",
      "Epoch 1620 out of 2000, loss: 0.0016775731124979692\n",
      "Epoch 1640 out of 2000, loss: 0.0016311037881577466\n",
      "Epoch 1660 out of 2000, loss: 0.0015937060518259065\n",
      "Epoch 1680 out of 2000, loss: 0.0015484908104122206\n",
      "Epoch 1700 out of 2000, loss: 0.0014960938721599699\n",
      "Epoch 1720 out of 2000, loss: 0.0014621196007446819\n",
      "Epoch 1740 out of 2000, loss: 0.0014299326573798175\n",
      "Epoch 1760 out of 2000, loss: 0.0013917709694351162\n",
      "Epoch 1780 out of 2000, loss: 0.001361209532242786\n",
      "Epoch 1800 out of 2000, loss: 0.001283953483819067\n",
      "Epoch 1820 out of 2000, loss: 0.0012660536631772681\n",
      "Epoch 1840 out of 2000, loss: 0.0012379574822073513\n",
      "Epoch 1860 out of 2000, loss: 0.0012022985171759382\n",
      "Epoch 1880 out of 2000, loss: 0.0011748006748717606\n",
      "Epoch 1900 out of 2000, loss: 0.001140544114820684\n",
      "Epoch 1920 out of 2000, loss: 0.001119956310149621\n",
      "Epoch 1940 out of 2000, loss: 0.0010895612130295208\n",
      "Epoch 1960 out of 2000, loss: 0.0010667593764767996\n",
      "Epoch 1980 out of 2000, loss: 0.0010305162127551431\n",
      "Epoch 2000 out of 2000, loss: 0.0009988190196173995\n",
      "Epoch 1 out of 2000, loss: 0.23812457534045361\n",
      "Epoch 20 out of 2000, loss: 0.22238207838206506\n",
      "Epoch 40 out of 2000, loss: 0.20716797179225507\n",
      "Epoch 60 out of 2000, loss: 0.15083089366609373\n",
      "Epoch 80 out of 2000, loss: 0.12151687765245088\n",
      "Epoch 100 out of 2000, loss: 0.11154399014503007\n",
      "Epoch 120 out of 2000, loss: 0.10395414337228369\n",
      "Epoch 140 out of 2000, loss: 0.09641290447477883\n",
      "Epoch 160 out of 2000, loss: 0.08885278290289565\n",
      "Epoch 180 out of 2000, loss: 0.08205506237661905\n",
      "Epoch 200 out of 2000, loss: 0.07611888937185707\n",
      "Epoch 220 out of 2000, loss: 0.07126616185678518\n",
      "Epoch 240 out of 2000, loss: 0.06668037750872535\n",
      "Epoch 260 out of 2000, loss: 0.06254375419047627\n",
      "Epoch 280 out of 2000, loss: 0.058443540808625724\n",
      "Epoch 300 out of 2000, loss: 0.05476218895608031\n",
      "Epoch 320 out of 2000, loss: 0.05134207299295043\n",
      "Epoch 340 out of 2000, loss: 0.0481585225514978\n",
      "Epoch 360 out of 2000, loss: 0.04531646691297958\n",
      "Epoch 380 out of 2000, loss: 0.042650324447622484\n",
      "Epoch 400 out of 2000, loss: 0.040352272708838934\n",
      "Epoch 420 out of 2000, loss: 0.03816539237638434\n",
      "Epoch 440 out of 2000, loss: 0.036029435807929756\n",
      "Epoch 460 out of 2000, loss: 0.03416510639058405\n",
      "Epoch 480 out of 2000, loss: 0.03232825962356713\n",
      "Epoch 500 out of 2000, loss: 0.030738016170240988\n",
      "Epoch 520 out of 2000, loss: 0.02902845344422828\n",
      "Epoch 540 out of 2000, loss: 0.027628597192937802\n",
      "Epoch 560 out of 2000, loss: 0.026244609305273916\n",
      "Epoch 580 out of 2000, loss: 0.0249573809514587\n",
      "Epoch 600 out of 2000, loss: 0.023639223430616797\n",
      "Epoch 620 out of 2000, loss: 0.02249240683706289\n",
      "Epoch 640 out of 2000, loss: 0.021507290463283726\n",
      "Epoch 660 out of 2000, loss: 0.02040080786039152\n",
      "Epoch 680 out of 2000, loss: 0.01938445799470466\n",
      "Epoch 700 out of 2000, loss: 0.01841779031151138\n",
      "Epoch 720 out of 2000, loss: 0.017610235104120915\n",
      "Epoch 740 out of 2000, loss: 0.016771157478569745\n",
      "Epoch 760 out of 2000, loss: 0.016004448908975243\n",
      "Epoch 780 out of 2000, loss: 0.015459806652244862\n",
      "Epoch 800 out of 2000, loss: 0.014753677518331428\n",
      "Epoch 820 out of 2000, loss: 0.014015408015057278\n",
      "Epoch 840 out of 2000, loss: 0.013440177083177726\n",
      "Epoch 860 out of 2000, loss: 0.012977533705296966\n",
      "Epoch 880 out of 2000, loss: 0.012409283682245673\n",
      "Epoch 900 out of 2000, loss: 0.011806345897341546\n",
      "Epoch 920 out of 2000, loss: 0.011434904888124698\n",
      "Epoch 940 out of 2000, loss: 0.011060450891234001\n",
      "Epoch 960 out of 2000, loss: 0.010509219739201624\n",
      "Epoch 980 out of 2000, loss: 0.010145419478734033\n",
      "Epoch 1000 out of 2000, loss: 0.009818761589403651\n",
      "Epoch 1020 out of 2000, loss: 0.009392923318906276\n",
      "Epoch 1040 out of 2000, loss: 0.00904328248186773\n",
      "Epoch 1060 out of 2000, loss: 0.00878230799210784\n",
      "Epoch 1080 out of 2000, loss: 0.00842956312613212\n",
      "Epoch 1100 out of 2000, loss: 0.00809027043276359\n",
      "Epoch 1120 out of 2000, loss: 0.007806931684746962\n",
      "Epoch 1140 out of 2000, loss: 0.0075719549039384776\n",
      "Epoch 1160 out of 2000, loss: 0.007266057306083993\n",
      "Epoch 1180 out of 2000, loss: 0.0070758440943003\n",
      "Epoch 1200 out of 2000, loss: 0.00678339251583693\n",
      "Epoch 1220 out of 2000, loss: 0.006620449314043419\n",
      "Epoch 1240 out of 2000, loss: 0.006347723496867629\n",
      "Epoch 1260 out of 2000, loss: 0.006144176997998976\n",
      "Epoch 1280 out of 2000, loss: 0.005926312076289793\n",
      "Epoch 1300 out of 2000, loss: 0.005793091452925545\n",
      "Epoch 1320 out of 2000, loss: 0.005540234654114474\n",
      "Epoch 1340 out of 2000, loss: 0.005375370960217782\n",
      "Epoch 1360 out of 2000, loss: 0.005246690615214599\n",
      "Epoch 1380 out of 2000, loss: 0.005054614314266621\n",
      "Epoch 1400 out of 2000, loss: 0.004947130972892907\n",
      "Epoch 1420 out of 2000, loss: 0.004750213033494365\n",
      "Epoch 1440 out of 2000, loss: 0.0046340731966536776\n",
      "Epoch 1460 out of 2000, loss: 0.004521306912626091\n",
      "Epoch 1480 out of 2000, loss: 0.0043638599117059316\n",
      "Epoch 1500 out of 2000, loss: 0.004246751237160612\n",
      "Epoch 1520 out of 2000, loss: 0.004139045182454442\n",
      "Epoch 1540 out of 2000, loss: 0.0040130649390862205\n",
      "Epoch 1560 out of 2000, loss: 0.003895769362603489\n",
      "Epoch 1580 out of 2000, loss: 0.003777648129794504\n",
      "Epoch 1600 out of 2000, loss: 0.0036781142422092875\n",
      "Epoch 1620 out of 2000, loss: 0.0035843233377782354\n",
      "Epoch 1640 out of 2000, loss: 0.003451107765481174\n",
      "Epoch 1660 out of 2000, loss: 0.003406750803839028\n",
      "Epoch 1680 out of 2000, loss: 0.0032933791102082257\n",
      "Epoch 1700 out of 2000, loss: 0.003202391123538577\n",
      "Epoch 1720 out of 2000, loss: 0.0031140585992460853\n",
      "Epoch 1740 out of 2000, loss: 0.0030429867936971294\n",
      "Epoch 1760 out of 2000, loss: 0.0029770197040560956\n",
      "Epoch 1780 out of 2000, loss: 0.0028921974132530047\n",
      "Epoch 1800 out of 2000, loss: 0.002824537687442146\n",
      "Epoch 1820 out of 2000, loss: 0.0027490128018594464\n",
      "Epoch 1840 out of 2000, loss: 0.002681573420493399\n",
      "Epoch 1860 out of 2000, loss: 0.002616337334002406\n",
      "Epoch 1880 out of 2000, loss: 0.0025251947061859935\n",
      "Epoch 1900 out of 2000, loss: 0.0024906164215213887\n",
      "Epoch 1920 out of 2000, loss: 0.002424188594952874\n",
      "Epoch 1940 out of 2000, loss: 0.002391036591299452\n",
      "Epoch 1960 out of 2000, loss: 0.002345292223030727\n",
      "Epoch 1980 out of 2000, loss: 0.00228267187099053\n",
      "Epoch 2000 out of 2000, loss: 0.0022217760582554534\n"
     ]
    },
    {
     "data": {
      "image/png": "[encoded data removed]",
      "text/plain": [
       "<Figure size 432x288 with 10 Axes>"
      ]
     },
     "metadata": {},
     "output_type": "display_data"
    }
   ],
   "source": [
    "neurons = [images[0, :].shape[0], 200, 150, 100] #taille du réseau\n",
    "dbn = DBN(neurons)\n",
    "dbn, losses = dbn.pretrain_DBN(images, n_epoch=2000, lr_rate=0.001)\n",
    "generated = dbn.generer_image_DBN(n_imgs, n_iter=n_iter)"
   ]
  },
  {
   "cell_type": "markdown",
   "id": "be15bf90-0e36-4495-8b2e-583940cf04df",
   "metadata": {
    "jp-MarkdownHeadingCollapsed": true,
    "tags": []
   },
   "source": [
    "# 4. Deep Neural Network (DNN) on MNIST"
   ]
  },
  {
   "cell_type": "code",
   "execution_count": 112,
   "id": "1e6e5fdc-aeb6-443d-9732-c19b78fb8455",
   "metadata": {},
   "outputs": [],
   "source": [
    "def read_mnist():\n",
    "    X_train, y_train = loadlocal_mnist(images_path='train-images-idx3-ubyte',\n",
    "                         labels_path='train-labels-idx1-ubyte')\n",
    "    X_test, y_test = loadlocal_mnist(images_path='t10k-images-idx3-ubyte',\n",
    "                         labels_path='t10k-labels-idx1-ubyte')\n",
    "    #We binarize the images\n",
    "    X_train = np.where(X_train > 126, 1, 0)\n",
    "    X_test = np.where(X_test > 126, 1, 0)\n",
    "    #We encode targets\n",
    "    oh = OneHotEncoder()\n",
    "    y_train = oh.fit_transform(y_train.reshape(-1,1)).toarray()\n",
    "    y_test = oh.fit_transform(y_test.reshape(-1,1)).toarray()\n",
    "    \n",
    "    return X_train, X_test, y_train, y_test"
   ]
  },
  {
   "cell_type": "code",
   "execution_count": 113,
   "id": "644d3f2c-2ade-461b-9a3e-ad01eed3f156",
   "metadata": {
    "tags": []
   },
   "outputs": [],
   "source": [
    "X_train, X_test, y_train, y_test = read_mnist()"
   ]
  },
  {
   "cell_type": "code",
   "execution_count": 118,
   "id": "4b5eb38c-048e-4c53-90c8-9880b6ecc31a",
   "metadata": {},
   "outputs": [],
   "source": [
    "# Values of hyperparameters\n",
    "vect_DNN = [784, 100, 50, 10] #DNN network size\n",
    "n_iter_RBM = 100\n",
    "n_iter_DBN = 200\n",
    "lr = 0.01\n",
    "batch_size = 32"
   ]
  },
  {
   "cell_type": "code",
   "execution_count": 119,
   "id": "6d2d7a31-e38e-4a58-803d-fb03225eaee3",
   "metadata": {},
   "outputs": [],
   "source": [
    "def cross_entropy(y_hat, y):\n",
    "    loss = []\n",
    "    for k in range(y.shape[0]):\n",
    "        loss.append(np.sum([-y[k,j]*np.log(y_hat[k,j]) for j in range(y.shape[1])]))\n",
    "    return loss"
   ]
  },
  {
   "cell_type": "code",
   "execution_count": 93,
   "id": "1e2343b6-09dc-4bcd-aac3-80d7335796a1",
   "metadata": {},
   "outputs": [],
   "source": [
    "#Define the class DNN, which inherits from DBN\n",
    "class DNN(DBN):\n",
    "    \n",
    "    # It calls the constructor of the parent class, DBN, passing the neurons parameter\n",
    "    def __init__(self, neurons):\n",
    "        super().__init__(neurons)\n",
    "        \n",
    "    # Calculates the softmax function of the output of a given RBM and a given data\n",
    "    def calcul_softmax(self, rbm, data):\n",
    "        p_h, _ = rbm.entree_sortie_RBM(data, act='softmax')\n",
    "        return p_h\n",
    "    \n",
    "    # Computes the output of the network given an input data\n",
    "    def entree_sortie_reseau(self, data):\n",
    "        outputs = [data]\n",
    "        # For each RBM of the network except the last one, compute the output and append it to the outputs list\n",
    "        for rbm in self.RBMs_list[:-1]:\n",
    "            probas, _ = rbm.entree_sortie_RBM(outputs[-1])\n",
    "            outputs.append(probas)\n",
    "        # Compute the softmax function of the output of the last RBM and append it to the outputs list\n",
    "        outputs.append(self.calcul_softmax(self.RBMs_list[-1], outputs[-1]))\n",
    "        return outputs\n",
    "    \n",
    "    # Performs backpropagation algorithm to optimize weights and biases of the network\n",
    "    def retropropagation(self, data, labels, batch_size=50, epochs=10000, lr_rate=0.01, verbose = True):\n",
    "        n_samples = data.shape[0]\n",
    "        loss = []\n",
    "        \n",
    "        for i in range(1, epochs + 1):\n",
    "            loss_batches = []\n",
    "            # The data is split into batches and for each batch\n",
    "            for z in range(0, n_samples, batch_size):\n",
    "                batch = data[z:min(n_samples, z + batch_size), :]\n",
    "                batch_labels = labels[z:min(n_samples, z + batch_size), :]\n",
    "                # The output of the network is computed for the current batch\n",
    "                outputs = self.entree_sortie_reseau(batch)\n",
    "                # The error is computed as the difference between the predicted and actual output\n",
    "                last_layer = self.RBMs_list[-1]\n",
    "                # The weights and biases of the output layer are updated based on the error\n",
    "                c = (outputs[-1] - batch_labels)\n",
    "                last_layer.W -= lr_rate * outputs[-2].T @ c / batch_size\n",
    "                last_layer.b -= lr_rate * np.mean(c, axis = 0) / batch_size\n",
    "                for idx, rbm in reversed(list(enumerate(self.RBMs_list[:-1]))):\n",
    "                    # The error is backpropagated through the layer\n",
    "                    c = c@self.RBMs_list[idx+1].W.T * outputs[idx+1] * (1-outputs[idx+1])\n",
    "                    # The weights and biases of the layer are updated based on the error\n",
    "                    rbm.W -= lr_rate / batch_size * outputs[idx].T @ c \n",
    "                    rbm.b -= lr_rate * np.mean(c, axis=0) \n",
    "                # The loss for the batch is computed and saved\n",
    "                loss_batches += cross_entropy(outputs[-1], batch_labels)\n",
    "            # The average loss for the epoch is computed and saved\n",
    "            loss.append(np.mean(loss_batches))\n",
    "            if verbose:\n",
    "                if not(i % 25) or i == 1:\n",
    "                    print(f\"Epoch {i} out of {epochs}. CELoss value is {loss[-1]}\")\n",
    "        return self, loss\n",
    "\n",
    "    def test_dnn(self, data, labels, verbose = True):\n",
    "        for rbm in self.RBMs_list[:-1]:\n",
    "            _, data = rbm.entree_sortie_RBM(data)\n",
    "        preds = np.argmax(self.calcul_softmax(self.RBMs_list[-1], data),\n",
    "                          axis=1)\n",
    "        good_labels = 0\n",
    "        #print(preds)\n",
    "        for idx, pred in enumerate(preds):\n",
    "            if pred == np.argmax(labels[idx]):\n",
    "                good_labels += 1\n",
    "        if verbose:\n",
    "            print(\"The percentage of false labeled data is \",\n",
    "              100*(labels.shape[0] - good_labels) / labels.shape[0])\n",
    "        return 100*(labels.shape[0] - good_labels) / labels.shape[0]\n",
    "    \n",
    "    def get_pred(self, data):\n",
    "        for rbm in self.RBMs_list[:-1]:\n",
    "            _, data = rbm.entree_sortie_RBM(data)\n",
    "        probs = self.calcul_softmax(self.RBMs_list[-1], data)\n",
    "        return(probs)"
   ]
  },
  {
   "cell_type": "code",
   "execution_count": 145,
   "id": "c3f5e18e-569c-45b5-84b0-79b19db563db",
   "metadata": {},
   "outputs": [
    {
     "name": "stdout",
     "output_type": "stream",
     "text": [
      "Epoch 1 out of 100, loss: 0.030189863985491682\n",
      "Epoch 20 out of 100, loss: 0.02891482998204111\n",
      "Epoch 40 out of 100, loss: 0.029296238529759443\n",
      "Epoch 60 out of 100, loss: 0.029116836386344578\n",
      "Epoch 80 out of 100, loss: 0.028820869308083905\n",
      "Epoch 100 out of 100, loss: 0.02850189369956272\n",
      "Epoch 1 out of 100, loss: 0.03534394982145237\n",
      "Epoch 20 out of 100, loss: 0.023983848040750756\n",
      "Epoch 40 out of 100, loss: 0.022983769920452556\n",
      "Epoch 60 out of 100, loss: 0.022552557707830823\n",
      "Epoch 80 out of 100, loss: 0.022270300475722\n",
      "Epoch 100 out of 100, loss: 0.022017105677102994\n",
      "Epoch 1 out of 100, loss: 0.10931966439085888\n",
      "Epoch 20 out of 100, loss: 0.10460172854072539\n",
      "Epoch 40 out of 100, loss: 0.10432417329072646\n",
      "Epoch 60 out of 100, loss: 0.10431404722866916\n",
      "Epoch 80 out of 100, loss: 0.10431328634093658\n",
      "Epoch 100 out of 100, loss: 0.1043478667766514\n",
      "Epoch 1 out of 200. CELoss value is 6.101868421164524\n",
      "Epoch 25 out of 200. CELoss value is 0.40811134551440226\n",
      "Epoch 50 out of 200. CELoss value is 0.3051654993629064\n",
      "Epoch 75 out of 200. CELoss value is 0.2558851669514374\n",
      "Epoch 100 out of 200. CELoss value is 0.22515949683634498\n",
      "Epoch 125 out of 200. CELoss value is 0.2030161053982629\n",
      "Epoch 150 out of 200. CELoss value is 0.18643727065620916\n",
      "Epoch 175 out of 200. CELoss value is 0.1733131103503958\n",
      "Epoch 200 out of 200. CELoss value is 0.1623176242002775\n"
     ]
    },
    {
     "data": {
      "image/png": "[encoded data removed]",
      "text/plain": [
       "<Figure size 432x288 with 1 Axes>"
      ]
     },
     "metadata": {
      "needs_background": "light"
     },
     "output_type": "display_data"
    },
    {
     "name": "stdout",
     "output_type": "stream",
     "text": [
      "The percentage of false labeled data is  9.23\n"
     ]
    },
    {
     "data": {
      "text/plain": [
       "9.23"
      ]
     },
     "execution_count": 145,
     "metadata": {},
     "output_type": "execute_result"
    }
   ],
   "source": [
    "dnn = DNN(vect_DNN) #Initialization of the DNN\n",
    "\n",
    "#We train the DNN in an unsupervised way\n",
    "dnn, losses = dnn.pretrain_DBN(X_train, batch_size = batch_size, n_epoch = n_iter_RBM)\n",
    "\n",
    "#Then we train the DNN in an supervised way\n",
    "dnn, loss = dnn.retropropagation(data = X_train, labels = y_train, epochs = n_iter_DBN,\n",
    "                                 batch_size = batch_size, lr_rate = lr)\n",
    "plt.plot(loss)\n",
    "plt.show()\n",
    "\n",
    "dnn.test_dnn(X_test, y_test)"
   ]
  },
  {
   "cell_type": "code",
   "execution_count": 147,
   "id": "5df136ea-9935-4daa-a050-8f333f0c14e6",
   "metadata": {},
   "outputs": [
    {
     "data": {
      "text/plain": [
       "(<matplotlib.image.AxesImage at 0x7fc1c5921ee0>,\n",
       " array([8.51949376e-03, 1.56525497e-07, 5.17126218e-05, 9.26509808e-04,\n",
       "        5.02245843e-07, 9.02434044e-05, 5.76317969e-07, 9.99668850e-01,\n",
       "        2.27362531e-07, 1.29810627e-03]))"
      ]
     },
     "execution_count": 147,
     "metadata": {},
     "output_type": "execute_result"
    },
    {
     "data": {
      "image/png": "[encoded data removed]",
      "text/plain": [
       "<Figure size 432x288 with 1 Axes>"
      ]
     },
     "metadata": {
      "needs_background": "light"
     },
     "output_type": "display_data"
    }
   ],
   "source": [
    "i=0\n",
    "plt.imshow(X_test[i].reshape(28,28),cmap='gray'),probs[i]"
   ]
  },
  {
   "cell_type": "markdown",
   "id": "4c8e04cc-da9e-4ac1-b119-6c21f94c2bf4",
   "metadata": {
    "jp-MarkdownHeadingCollapsed": true,
    "tags": []
   },
   "source": [
    "# 5. Analysis"
   ]
  },
  {
   "cell_type": "markdown",
   "id": "d9f044d0-feda-47c5-a603-b0ed18551c11",
   "metadata": {
    "jp-MarkdownHeadingCollapsed": true,
    "tags": []
   },
   "source": [
    "## 5.1 Number of layers"
   ]
  },
  {
   "cell_type": "code",
   "execution_count": 150,
   "id": "984ff053-3868-4f7a-96cc-e5a129715a94",
   "metadata": {},
   "outputs": [
    {
     "name": "stderr",
     "output_type": "stream",
     "text": [
      "  0%|          | 0/5 [00:00<?, ?it/s]"
     ]
    },
    {
     "name": "stdout",
     "output_type": "stream",
     "text": [
      "[784, 10]\n"
     ]
    },
    {
     "name": "stderr",
     "output_type": "stream",
     "text": [
      "/var/folders/f0/q7nn178n5cldx0lvl6yvbbn40000gn/T/ipykernel_39610/2300698629.py:2: RuntimeWarning: overflow encountered in exp\n",
      "  return 1 / (1 + np.exp(x))\n",
      " 20%|██        | 1/5 [26:30<1:46:03, 1590.81s/it]"
     ]
    },
    {
     "name": "stdout",
     "output_type": "stream",
     "text": [
      "[784, 200, 10]\n"
     ]
    },
    {
     "name": "stderr",
     "output_type": "stream",
     "text": [
      " 40%|████      | 2/5 [1:10:08<1:49:44, 2194.84s/it]"
     ]
    },
    {
     "name": "stdout",
     "output_type": "stream",
     "text": [
      "[784, 200, 200, 10]\n"
     ]
    },
    {
     "name": "stderr",
     "output_type": "stream",
     "text": [
      " 60%|██████    | 3/5 [2:03:59<1:28:56, 2668.19s/it]"
     ]
    },
    {
     "name": "stdout",
     "output_type": "stream",
     "text": [
      "[784, 200, 200, 200, 10]\n"
     ]
    },
    {
     "name": "stderr",
     "output_type": "stream",
     "text": [
      " 80%|████████  | 4/5 [3:09:03<52:35, 3155.79s/it]  "
     ]
    },
    {
     "name": "stdout",
     "output_type": "stream",
     "text": [
      "[784, 200, 200, 200, 200, 10]\n"
     ]
    },
    {
     "name": "stderr",
     "output_type": "stream",
     "text": [
      "100%|██████████| 5/5 [4:24:12<00:00, 3170.51s/it]\n"
     ]
    }
   ],
   "source": [
    "grid = [[784, 10], [784, 200, 10], [784, 200, 200, 10], [784, 200, 200, 200, 10], [784, 200, 200, 200, 200, 10]]\n",
    "list_train = []\n",
    "list_pretrain = []\n",
    "for vect in tqdm(grid):\n",
    "    print(vect)\n",
    "    dnn1 = DNN(vect)\n",
    "    dnn2 = DNN(vect) # We initialize two identical networks\n",
    "    \n",
    "    #We train one DNN in an unsupervised way\n",
    "    dnn1, losses = dnn1.pretrain_DBN(X_train, batch_size = batch_size, n_epoch = n_iter_RBM, verbose = False) \n",
    "    #Then we train it in an supervised way\n",
    "    dnn1, loss = dnn1.retropropagation(data = X_train, labels = y_train, epochs = n_iter_DBN,\n",
    "                                 batch_size = batch_size, lr_rate = lr, verbose = False)\n",
    "    #We train the second one only in a supervised way\n",
    "    dnn2, loss = dnn2.retropropagation(data = X_train, labels = y_train, epochs = n_iter_DBN,\n",
    "                                 batch_size = batch_size, lr_rate = lr, verbose = False)\n",
    "    list_train.append(dnn2.test_dnn(X_test, y_test, verbose = False))\n",
    "    list_pretrain.append(dnn1.test_dnn(X_test, y_test, verbose = False))"
   ]
  },
  {
   "cell_type": "code",
   "execution_count": 158,
   "id": "e8fb4800-07b3-4512-9787-ea29771045f1",
   "metadata": {},
   "outputs": [
    {
     "name": "stdout",
     "output_type": "stream",
     "text": [
      "The percentage of false labeled data is  90.41\n"
     ]
    },
    {
     "data": {
      "text/plain": [
       "90.41"
      ]
     },
     "execution_count": 158,
     "metadata": {},
     "output_type": "execute_result"
    }
   ],
   "source": [
    "dnn2.test_dnn(X_test, y_test, verbose = True)"
   ]
  },
  {
   "cell_type": "code",
   "execution_count": 153,
   "id": "1f077dfb-87b2-4aa9-b5bc-42f8e246dd9b",
   "metadata": {},
   "outputs": [
    {
     "data": {
      "text/plain": [
       "[10.06, 5.65, 6.96, 7.23, 10.66]"
      ]
     },
     "execution_count": 153,
     "metadata": {},
     "output_type": "execute_result"
    }
   ],
   "source": [
    "list_pretrain"
   ]
  },
  {
   "cell_type": "code",
   "execution_count": 154,
   "id": "f71262d3-5fab-486d-9586-b9211031371e",
   "metadata": {},
   "outputs": [
    {
     "data": {
      "text/plain": [
       "[8.7, 8.29, 16.09, 90.43, 90.42]"
      ]
     },
     "execution_count": 154,
     "metadata": {},
     "output_type": "execute_result"
    }
   ],
   "source": [
    "list_train"
   ]
  },
  {
   "cell_type": "code",
   "execution_count": 159,
   "id": "78516d55-7b64-4090-8050-71553b897964",
   "metadata": {},
   "outputs": [
    {
     "data": {
      "image/png": "[encoded data removed]",
      "text/plain": [
       "<Figure size 864x504 with 1 Axes>"
      ]
     },
     "metadata": {
      "needs_background": "light"
     },
     "output_type": "display_data"
    }
   ],
   "source": [
    "plt.figure(figsize=(12,7))\n",
    "plt.title(\"Evolution du taux d'erreur en fonction du nombre de couches\")\n",
    "plt.xlabel('Number of layers')\n",
    "plt.ylabel(\"Error rate\")\n",
    "plt.plot([1, 2, 3, 4, 5],list_train, label = 'réseau non preentrainé')\n",
    "plt.plot([1, 2, 3, 4, 5],list_pretrain, label = 'réseau preentrainé')\n",
    "plt.grid()\n",
    "plt.show()"
   ]
  },
  {
   "cell_type": "markdown",
   "id": "96fc4ca7-82b9-41d0-9088-a269a6a80cf2",
   "metadata": {
    "jp-MarkdownHeadingCollapsed": true,
    "tags": []
   },
   "source": [
    "## 5.2 Number of neurons by layer"
   ]
  },
  {
   "cell_type": "code",
   "execution_count": 161,
   "id": "d1d8e017-1df0-46a8-aa7d-8b94fe3d876c",
   "metadata": {},
   "outputs": [
    {
     "name": "stderr",
     "output_type": "stream",
     "text": [
      "  0%|          | 0/5 [00:00<?, ?it/s]"
     ]
    },
    {
     "name": "stdout",
     "output_type": "stream",
     "text": [
      "[784, 50, 50, 10]\n"
     ]
    },
    {
     "name": "stderr",
     "output_type": "stream",
     "text": [
      " 20%|██        | 1/5 [34:26<2:17:46, 2066.59s/it]"
     ]
    },
    {
     "name": "stdout",
     "output_type": "stream",
     "text": [
      "[20.68] [16.4]\n",
      "[784, 100, 100, 10]\n"
     ]
    },
    {
     "name": "stderr",
     "output_type": "stream",
     "text": [
      " 40%|████      | 2/5 [1:13:28<1:51:25, 2228.52s/it]"
     ]
    },
    {
     "name": "stdout",
     "output_type": "stream",
     "text": [
      "[20.68, 17.98] [16.4, 9.66]\n",
      "[784, 300, 300, 10]\n"
     ]
    },
    {
     "name": "stderr",
     "output_type": "stream",
     "text": [
      " 60%|██████    | 3/5 [2:29:59<1:50:14, 3307.14s/it]"
     ]
    },
    {
     "name": "stdout",
     "output_type": "stream",
     "text": [
      "[20.68, 17.98, 16.55] [16.4, 9.66, 7.32]\n",
      "[784, 500, 500, 10]\n"
     ]
    },
    {
     "name": "stderr",
     "output_type": "stream",
     "text": [
      " 80%|████████  | 4/5 [4:34:04<1:22:20, 4940.93s/it]"
     ]
    },
    {
     "name": "stdout",
     "output_type": "stream",
     "text": [
      "[20.68, 17.98, 16.55, 15.41] [16.4, 9.66, 7.32, 7.38]\n",
      "[784, 700, 700, 10]\n"
     ]
    },
    {
     "name": "stderr",
     "output_type": "stream",
     "text": [
      "100%|██████████| 5/5 [7:44:07<00:00, 5569.53s/it]  "
     ]
    },
    {
     "name": "stdout",
     "output_type": "stream",
     "text": [
      "[20.68, 17.98, 16.55, 15.41, 14.84] [16.4, 9.66, 7.32, 7.38, 7.72]\n"
     ]
    },
    {
     "name": "stderr",
     "output_type": "stream",
     "text": [
      "\n"
     ]
    }
   ],
   "source": [
    "grid = [[784, 50, 50, 10], [784, 100, 100, 10],[784, 300, 300, 10], [784, 500, 500, 10], [784, 700, 700, 10]]\n",
    "list_train = []\n",
    "list_pretrain = []\n",
    "for vect in tqdm(grid):\n",
    "    print(vect)\n",
    "    dnn1 = DNN(vect)\n",
    "    dnn2 = DNN(vect) # We initialize two identical networks\n",
    "   \n",
    "    #We train one DNN in an unsupervised way\n",
    "    dnn1, losses = dnn1.pretrain_DBN(X_train, batch_size = batch_size, n_epoch = n_iter_RBM, verbose = False) \n",
    "    #Then we train it in an supervised way\n",
    "    dnn1, loss = dnn1.retropropagation(data = X_train, labels = y_train, epochs = n_iter_DBN,\n",
    "                                 batch_size = batch_size, lr_rate = lr, verbose = False)\n",
    "    #We train the second one only in a supervised way\n",
    "    dnn2, loss = dnn2.retropropagation(data = X_train, labels = y_train, epochs = n_iter_DBN,\n",
    "                                 batch_size = batch_size, lr_rate = lr, verbose = False)\n",
    "    list_train.append(dnn2.test_dnn(X_test, y_test, verbose = False))\n",
    "    list_pretrain.append(dnn1.test_dnn(X_test, y_test, verbose = False))\n",
    "    print(list_train, list_pretrain)"
   ]
  },
  {
   "cell_type": "code",
   "execution_count": 163,
   "id": "b846b8e0-00a7-4559-94e2-c2bafa5e4948",
   "metadata": {},
   "outputs": [
    {
     "data": {
      "image/png": "[encoded data removed]",
      "text/plain": [
       "<Figure size 864x504 with 1 Axes>"
      ]
     },
     "metadata": {
      "needs_background": "light"
     },
     "output_type": "display_data"
    }
   ],
   "source": [
    "plt.figure(figsize=(12,7))\n",
    "plt.title(\"Évolution du taux d'erreur en fonction du nombre de neurones par couche\")\n",
    "plt.xlabel('Number of neurons by layer')\n",
    "plt.ylabel(\"Error rate\")\n",
    "plt.plot([50, 100, 300, 500, 700], list_train, label = 'réseau non preentrainé')\n",
    "plt.plot([50, 100, 300, 500, 700], list_pretrain, label = 'réseau preentrainé')\n",
    "plt.legend()\n",
    "plt.grid()\n",
    "plt.show()"
   ]
  },
  {
   "cell_type": "markdown",
   "id": "b4913b5a-b037-4c86-821d-87ad5e2ee544",
   "metadata": {
    "jp-MarkdownHeadingCollapsed": true,
    "tags": []
   },
   "source": [
    "## 5.3 Number of data trained"
   ]
  },
  {
   "cell_type": "code",
   "execution_count": 165,
   "id": "74be1210-011e-4307-aca3-9668314c4cb0",
   "metadata": {},
   "outputs": [
    {
     "name": "stderr",
     "output_type": "stream",
     "text": [
      "100%|██████████| 6/6 [1:12:39<00:00, 726.54s/it] \n"
     ]
    }
   ],
   "source": [
    "grid = [1000, 3000, 7000, 10000, 30000, 60000]\n",
    "vect = [784, 50, 50, 10]\n",
    "list_train = []\n",
    "list_pretrain = []\n",
    "for limit in tqdm(grid):\n",
    "    #We split  our data\n",
    "    X_train_ex = X_train[:limit]\n",
    "    y_train_ex = y_train[:limit]\n",
    "\n",
    "    dnn1 = DNN(vect)\n",
    "    dnn2 = DNN(vect) # We initialize two identical networks\n",
    "    \n",
    "    #We train one DNN in an unsupervised way\n",
    "    dnn1, losses = dnn1.pretrain_DBN(X_train_ex, batch_size = batch_size, n_epoch = n_iter_RBM, verbose = False) \n",
    "\n",
    "    #Then we train it in an supervised way\n",
    "    dnn1, loss = dnn1.retropropagation(data = X_train_ex, labels = y_train_ex, epochs = n_iter_DBN,\n",
    "                                 batch_size = batch_size, lr_rate = lr, verbose = False)\n",
    "    \n",
    "    #We train the second one only in a supervised way\n",
    "    dnn2, loss = dnn2.retropropagation(data = X_train_ex, labels = y_train_ex, epochs = n_iter_DBN,\n",
    "                                 batch_size = batch_size, lr_rate = lr, verbose = False)\n",
    "    list_train.append(dnn2.test_dnn(X_test, y_test, verbose = False))\n",
    "    list_pretrain.append(dnn1.test_dnn(X_test, y_test, verbose = False))"
   ]
  },
  {
   "cell_type": "code",
   "execution_count": 167,
   "id": "2be72302-c821-48b5-bad6-5f7a4aabe384",
   "metadata": {},
   "outputs": [
    {
     "data": {
      "image/png": "[encoded data removed]",
      "text/plain": [
       "<Figure size 864x504 with 1 Axes>"
      ]
     },
     "metadata": {
      "needs_background": "light"
     },
     "output_type": "display_data"
    }
   ],
   "source": [
    "plt.figure(figsize=(12,7))\n",
    "plt.title(\"Évolution du taux d'erreur en fonction du nombre de données d'entrainement\")\n",
    "plt.xlabel(\"Number of trained data\")\n",
    "plt.ylabel(\"Error rate\")\n",
    "plt.plot( [1000, 3000, 7000, 10000, 30000, 60000], list_train, label = 'réseau non preentrainé')\n",
    "plt.plot([1000, 3000, 7000, 10000, 30000, 60000], list_pretrain, label = 'réseau preentrainé')\n",
    "plt.grid()\n",
    "plt.legend()\n",
    "plt.show()"
   ]
  },
  {
   "cell_type": "markdown",
   "id": "bae15fa3-41df-4bc6-95e6-888cc8edec6a",
   "metadata": {},
   "source": [
    "**=> As we can see on these 3 plots, the best model is maybe a pre trained network trained with 30 000 data, 300 neurons by layer and 2 layers.**"
   ]
  },
  {
   "cell_type": "markdown",
   "id": "5c93d00d-f8a8-4440-b134-230c0be923ea",
   "metadata": {
    "jp-MarkdownHeadingCollapsed": true,
    "tags": []
   },
   "source": [
    "# 6. Variational Auto Encoder (VAE)"
   ]
  },
  {
   "cell_type": "code",
   "execution_count": 15,
   "id": "acc9e1a5-387b-469e-9fdc-16237fa2f2ee",
   "metadata": {
    "collapsed": true,
    "id": "JqNeIJ8Op8Ao",
    "jupyter": {
     "outputs_hidden": true
    },
    "tags": []
   },
   "outputs": [
    {
     "name": "stderr",
     "output_type": "stream",
     "text": [
      "/Users/pierreloviton/opt/anaconda3/lib/python3.9/site-packages/torchvision/io/image.py:13: UserWarning: Failed to load image Python extension: dlopen(/Users/pierreloviton/opt/anaconda3/lib/python3.9/site-packages/torchvision/image.so, 0x0006): Symbol not found: __ZN2at4_ops19empty_memory_format4callEN3c108ArrayRefIxEENS2_8optionalINS2_10ScalarTypeEEENS5_INS2_6LayoutEEENS5_INS2_6DeviceEEENS5_IbEENS5_INS2_12MemoryFormatEEE\n",
      "  Referenced from: <AFB7C78A-1D52-38B1-9D33-93A75FA7D528> /Users/pierreloviton/opt/anaconda3/lib/python3.9/site-packages/torchvision/image.so\n",
      "  Expected in:     <9D4C7FD2-49A8-383A-AC3E-A560DE81B0D8> /Users/pierreloviton/opt/anaconda3/lib/python3.9/site-packages/torch/lib/libtorch_cpu.dylib\n",
      "  warn(f\"Failed to load image Python extension: {e}\")\n"
     ]
    }
   ],
   "source": [
    "import torch\n",
    "import torch.nn as nn\n",
    "import torch.nn.functional as F\n",
    "import torch.optim as optim\n",
    "from torchvision import datasets, transforms\n",
    "from torch.autograd import Variable\n",
    "from torchvision.utils import save_image\n",
    "\n",
    "import pdb\n",
    "import numpy as np\n",
    "import matplotlib.pyplot as plt\n",
    "\n",
    "def pytorch_to_numpy(x):\n",
    "  return x.detach().numpy()"
   ]
  },
  {
   "cell_type": "code",
   "execution_count": 31,
   "id": "4c92c73f-4793-4d3b-88c7-7cf2b6c2a2d8",
   "metadata": {},
   "outputs": [],
   "source": [
    "from torch.utils.data import TensorDataset, DataLoader\n",
    "\n",
    "TensorDataset()\n",
    "\n",
    "def array_to_dataloader(X):\n",
    "    tensor_x = torch.Tensor(X)\n",
    "    my_dataset = TensorDataset(tensor_x) \n",
    "    my_dataloader = DataLoader(my_dataset)\n",
    "    return my_dataloader"
   ]
  },
  {
   "cell_type": "code",
   "execution_count": 16,
   "id": "baf6e31c-e81e-4545-9266-0ba2f77a9d55",
   "metadata": {
    "id": "6siMHQLheM4T"
   },
   "outputs": [],
   "source": [
    "class VAE(torch.nn.Module ):\n",
    "    def __init__(self, x_dim, h_dim1, h_dim2, z_dim,n_rows,n_cols,n_channels):\n",
    "        super(VAE, self).__init__()\n",
    "\n",
    "        self.n_rows = n_rows\n",
    "        self.n_cols = n_cols\n",
    "        self.n_channels = n_channels\n",
    "        self.n_pixels = (self.n_rows)*(self.n_cols)\n",
    "        self.z_dim = z_dim\n",
    "\n",
    "        # encoder part\n",
    "        self.fc1 = nn.Linear(x_dim, h_dim1) #FILL IN STUDENT\n",
    "        self.fc2 = nn.Linear(h_dim1, h_dim2) #FILL IN STUDENT\n",
    "        self.fc31 = nn.Linear(h_dim2, z_dim) #FILL IN STUDENT\n",
    "        self.fc32 = nn.Linear(h_dim2, z_dim) #FILL IN STUDENT\n",
    "        # decoder part\n",
    "        self.fc4 = nn.Linear(z_dim, h_dim2) #FILL IN STUDENT\n",
    "        self.fc5 = nn.Linear(h_dim2, h_dim1) #FILL IN STUDENT\n",
    "        self.fc6 = nn.Linear(h_dim1, x_dim) #FILL IN STUDENT\n",
    "    \n",
    "\n",
    "    def encoder(self, x):\n",
    "        h = F.relu(self.fc1(x.view(-1, self.n_pixels))) #FILL IN STUDENT\n",
    "        h = F.relu(self.fc2((h))) #FILL IN STUDENT\n",
    "        return F.relu(self.fc31(h)), F.relu(self.fc32(h)) #FILL IN STUDENT (remember, there are two outputs)\n",
    "                   \n",
    "    def decoder(self, z):\n",
    "        h = F.relu(self.fc4(z)) #FILL IN STUDENT\n",
    "        h = F.relu(self.fc5(h)) #FILL IN STUDENT\n",
    "        return F.sigmoid(self.fc6(h)).view(-1,n_channels, n_rows,n_cols) #FILL IN STUDENT\n",
    "\n",
    "    def sampling(self, mu, log_var):\n",
    "        # this function samples a Gaussian distribution, with average (mu) and standard deviation specified (using log_var)\n",
    "        std = torch.exp(0.5*log_var)\n",
    "        eps = torch.randn_like(std)\n",
    "        return eps.mul(std).add_(mu) # return z sample\n",
    "\n",
    "    def forward(self, x):\n",
    "        z_mu, z_log_var = self.encoder(x) #FILL IN STUDENT\n",
    "        z = self.sampling(z_mu, z_log_var) #FILL IN STUDENT\n",
    "        return self.decoder(z), z_mu, z_log_var\n",
    "\n",
    "    def loss_function(self,x, y, mu, log_var):\n",
    "        reconstruction_error = F.binary_cross_entropy(y.view(-1, self.n_pixels), x.view(-1, self.n_pixels), reduction='sum')\n",
    "\n",
    "        KLD = -0.5 * torch.sum(1 + log_var - mu.pow(2) - log_var.exp())\n",
    "\n",
    "        return reconstruction_error + KLD"
   ]
  },
  {
   "cell_type": "code",
   "execution_count": 47,
   "id": "ad3bdea4-9926-4038-8b21-a12debeeaa27",
   "metadata": {
    "id": "mD56EDzbvUxq"
   },
   "outputs": [],
   "source": [
    "# autoencoder parameters\n",
    "n_rows = int(np.sqrt(X_train.shape[1]))\n",
    "n_cols = int(np.sqrt(X_train.shape[1]))\n",
    "n_channels = 1\n",
    "n_pixels = n_rows*n_cols\n",
    "\n",
    "img_shape = (n_rows, n_cols, n_channels)\n",
    "z_dim = 10 # number of labels here but you can change this as you wish\n",
    "n_epochs = 50"
   ]
  },
  {
   "cell_type": "code",
   "execution_count": 18,
   "id": "3ddf54b9-29b0-420e-9744-2ab004472e28",
   "metadata": {
    "id": "pVlpC2R3htyU"
   },
   "outputs": [],
   "source": [
    "# create model\n",
    "vae_dim_1 = 512\n",
    "vae_dim_2 = 256\n",
    "vae_model = VAE(x_dim=n_pixels, h_dim1= vae_dim_1, h_dim2=vae_dim_2, z_dim=z_dim,n_rows=n_rows,n_cols=n_cols,n_channels=n_channels)\n",
    "vae_optimizer = optim.Adam(vae_model.parameters())"
   ]
  },
  {
   "cell_type": "code",
   "execution_count": 20,
   "id": "f80f1ae5-fc96-4803-9bea-6706e74d7d07",
   "metadata": {},
   "outputs": [
    {
     "name": "stdout",
     "output_type": "stream",
     "text": [
      "VAE(\n",
      "  (fc1): Linear(in_features=784, out_features=512, bias=True)\n",
      "  (fc2): Linear(in_features=512, out_features=256, bias=True)\n",
      "  (fc31): Linear(in_features=256, out_features=10, bias=True)\n",
      "  (fc32): Linear(in_features=256, out_features=10, bias=True)\n",
      "  (fc4): Linear(in_features=10, out_features=256, bias=True)\n",
      "  (fc5): Linear(in_features=256, out_features=512, bias=True)\n",
      "  (fc6): Linear(in_features=512, out_features=784, bias=True)\n",
      ")\n"
     ]
    }
   ],
   "source": [
    "print(vae_model)"
   ]
  },
  {
   "cell_type": "code",
   "execution_count": 45,
   "id": "4f5a7bef-d686-4151-90fc-45105bdd6e6a",
   "metadata": {
    "id": "z6DjKTWmmssb"
   },
   "outputs": [],
   "source": [
    "def train_vae(vae_model,data_train_loader, vae_optimizer, epoch, verbose=True):\n",
    "    train_loss = 0\n",
    "    for batch_idx, data in tqdm(enumerate(data_train_loader)):\n",
    "        data = data[0]\n",
    "        vae_optimizer.zero_grad()\n",
    "        y, z_mu, z_log_var = vae_model(data) #FILL IN STUDENT\n",
    "        loss_vae = vae_model.loss_function(data, y, z_mu, z_log_var) #FILL IN STUDENT\n",
    "        loss_vae.backward()\n",
    "        train_loss += loss_vae.item()\n",
    "        vae_optimizer.step() \n",
    "        \n",
    "        if verbose:\n",
    "            if batch_idx % 100 == 0:\n",
    "                print('Train Epoch: {} [{}/{} ({:.0f}%)]\\tLoss: {:.6f}'.format(\n",
    "                epoch, batch_idx * len(data), len(data_train_loader.dataset),\n",
    "                100. * batch_idx / len(data_train_loader), loss_vae.item() / len(data)))\n",
    "    print('====> Epoch: {} Average loss: {:.4f}'.format(epoch, train_loss / len(data_train_loader.dataset)))\n"
   ]
  },
  {
   "cell_type": "code",
   "execution_count": 43,
   "id": "24a218aa-29cb-4652-bd21-40e408655285",
   "metadata": {},
   "outputs": [],
   "source": [
    "train_loader = array_to_dataloader(X_train[:10000])"
   ]
  },
  {
   "cell_type": "code",
   "execution_count": 48,
   "id": "4ad84375-41ee-42bd-95be-4414cdcfffbb",
   "metadata": {
    "id": "L9JUUs6Kh8HB",
    "tags": []
   },
   "outputs": [
    {
     "name": "stderr",
     "output_type": "stream",
     "text": [
      "10000it [03:25, 48.77it/s]\n"
     ]
    },
    {
     "name": "stdout",
     "output_type": "stream",
     "text": [
      "====> Epoch: 0 Average loss: 165.3170\n"
     ]
    },
    {
     "name": "stderr",
     "output_type": "stream",
     "text": [
      "10000it [03:12, 51.96it/s]\n"
     ]
    },
    {
     "name": "stdout",
     "output_type": "stream",
     "text": [
      "====> Epoch: 1 Average loss: 164.7732\n"
     ]
    },
    {
     "name": "stderr",
     "output_type": "stream",
     "text": [
      "10000it [03:14, 51.53it/s]\n"
     ]
    },
    {
     "name": "stdout",
     "output_type": "stream",
     "text": [
      "====> Epoch: 2 Average loss: 164.3487\n"
     ]
    },
    {
     "name": "stderr",
     "output_type": "stream",
     "text": [
      "10000it [03:25, 48.76it/s]\n"
     ]
    },
    {
     "name": "stdout",
     "output_type": "stream",
     "text": [
      "====> Epoch: 3 Average loss: 164.3182\n"
     ]
    },
    {
     "name": "stderr",
     "output_type": "stream",
     "text": [
      "10000it [03:34, 46.59it/s]\n"
     ]
    },
    {
     "name": "stdout",
     "output_type": "stream",
     "text": [
      "====> Epoch: 4 Average loss: 163.8695\n"
     ]
    },
    {
     "name": "stderr",
     "output_type": "stream",
     "text": [
      "10000it [03:36, 46.16it/s]\n"
     ]
    },
    {
     "name": "stdout",
     "output_type": "stream",
     "text": [
      "====> Epoch: 5 Average loss: 163.4868\n"
     ]
    },
    {
     "name": "stderr",
     "output_type": "stream",
     "text": [
      "10000it [03:35, 46.36it/s]\n"
     ]
    },
    {
     "name": "stdout",
     "output_type": "stream",
     "text": [
      "====> Epoch: 6 Average loss: 163.5350\n"
     ]
    },
    {
     "name": "stderr",
     "output_type": "stream",
     "text": [
      "10000it [03:31, 47.28it/s]\n"
     ]
    },
    {
     "name": "stdout",
     "output_type": "stream",
     "text": [
      "====> Epoch: 7 Average loss: 163.2339\n"
     ]
    },
    {
     "name": "stderr",
     "output_type": "stream",
     "text": [
      "10000it [03:27, 48.14it/s]\n"
     ]
    },
    {
     "name": "stdout",
     "output_type": "stream",
     "text": [
      "====> Epoch: 8 Average loss: 163.4739\n"
     ]
    },
    {
     "name": "stderr",
     "output_type": "stream",
     "text": [
      "10000it [03:41, 45.20it/s]\n"
     ]
    },
    {
     "name": "stdout",
     "output_type": "stream",
     "text": [
      "====> Epoch: 9 Average loss: 162.8703\n"
     ]
    },
    {
     "name": "stderr",
     "output_type": "stream",
     "text": [
      "10000it [03:40, 45.30it/s]\n"
     ]
    },
    {
     "name": "stdout",
     "output_type": "stream",
     "text": [
      "====> Epoch: 10 Average loss: 162.5159\n"
     ]
    },
    {
     "name": "stderr",
     "output_type": "stream",
     "text": [
      "10000it [03:56, 42.33it/s]\n"
     ]
    },
    {
     "name": "stdout",
     "output_type": "stream",
     "text": [
      "====> Epoch: 11 Average loss: 162.2970\n"
     ]
    },
    {
     "name": "stderr",
     "output_type": "stream",
     "text": [
      "10000it [03:33, 46.80it/s]\n"
     ]
    },
    {
     "name": "stdout",
     "output_type": "stream",
     "text": [
      "====> Epoch: 12 Average loss: 162.1294\n"
     ]
    },
    {
     "name": "stderr",
     "output_type": "stream",
     "text": [
      "10000it [03:25, 48.58it/s]\n"
     ]
    },
    {
     "name": "stdout",
     "output_type": "stream",
     "text": [
      "====> Epoch: 13 Average loss: 162.1147\n"
     ]
    },
    {
     "name": "stderr",
     "output_type": "stream",
     "text": [
      "10000it [04:11, 39.78it/s]\n"
     ]
    },
    {
     "name": "stdout",
     "output_type": "stream",
     "text": [
      "====> Epoch: 14 Average loss: 161.7298\n"
     ]
    },
    {
     "name": "stderr",
     "output_type": "stream",
     "text": [
      "10000it [03:33, 46.93it/s]\n"
     ]
    },
    {
     "name": "stdout",
     "output_type": "stream",
     "text": [
      "====> Epoch: 15 Average loss: 161.5175\n"
     ]
    },
    {
     "name": "stderr",
     "output_type": "stream",
     "text": [
      "10000it [03:24, 48.95it/s]\n"
     ]
    },
    {
     "name": "stdout",
     "output_type": "stream",
     "text": [
      "====> Epoch: 16 Average loss: 161.9331\n"
     ]
    },
    {
     "name": "stderr",
     "output_type": "stream",
     "text": [
      "10000it [03:23, 49.03it/s]\n"
     ]
    },
    {
     "name": "stdout",
     "output_type": "stream",
     "text": [
      "====> Epoch: 17 Average loss: 161.8086\n"
     ]
    },
    {
     "name": "stderr",
     "output_type": "stream",
     "text": [
      "10000it [03:20, 49.76it/s]\n"
     ]
    },
    {
     "name": "stdout",
     "output_type": "stream",
     "text": [
      "====> Epoch: 18 Average loss: 161.4683\n"
     ]
    },
    {
     "name": "stderr",
     "output_type": "stream",
     "text": [
      "10000it [03:18, 50.37it/s]\n"
     ]
    },
    {
     "name": "stdout",
     "output_type": "stream",
     "text": [
      "====> Epoch: 19 Average loss: 161.7101\n"
     ]
    },
    {
     "name": "stderr",
     "output_type": "stream",
     "text": [
      "10000it [03:19, 50.08it/s]\n"
     ]
    },
    {
     "name": "stdout",
     "output_type": "stream",
     "text": [
      "====> Epoch: 20 Average loss: 161.6035\n"
     ]
    },
    {
     "name": "stderr",
     "output_type": "stream",
     "text": [
      "10000it [03:21, 49.61it/s]\n"
     ]
    },
    {
     "name": "stdout",
     "output_type": "stream",
     "text": [
      "====> Epoch: 21 Average loss: 161.6603\n"
     ]
    },
    {
     "name": "stderr",
     "output_type": "stream",
     "text": [
      "10000it [03:27, 48.13it/s]\n"
     ]
    },
    {
     "name": "stdout",
     "output_type": "stream",
     "text": [
      "====> Epoch: 22 Average loss: 161.9992\n"
     ]
    },
    {
     "name": "stderr",
     "output_type": "stream",
     "text": [
      "10000it [04:09, 40.04it/s]\n"
     ]
    },
    {
     "name": "stdout",
     "output_type": "stream",
     "text": [
      "====> Epoch: 23 Average loss: 161.5895\n"
     ]
    },
    {
     "name": "stderr",
     "output_type": "stream",
     "text": [
      "10000it [03:54, 42.65it/s]\n"
     ]
    },
    {
     "name": "stdout",
     "output_type": "stream",
     "text": [
      "====> Epoch: 24 Average loss: 161.4706\n"
     ]
    },
    {
     "name": "stderr",
     "output_type": "stream",
     "text": [
      "10000it [03:30, 47.41it/s]\n"
     ]
    },
    {
     "name": "stdout",
     "output_type": "stream",
     "text": [
      "====> Epoch: 25 Average loss: 161.4049\n"
     ]
    },
    {
     "name": "stderr",
     "output_type": "stream",
     "text": [
      "10000it [03:33, 46.81it/s]\n"
     ]
    },
    {
     "name": "stdout",
     "output_type": "stream",
     "text": [
      "====> Epoch: 26 Average loss: 161.4705\n"
     ]
    },
    {
     "name": "stderr",
     "output_type": "stream",
     "text": [
      "10000it [03:26, 48.33it/s]\n"
     ]
    },
    {
     "name": "stdout",
     "output_type": "stream",
     "text": [
      "====> Epoch: 27 Average loss: 161.4768\n"
     ]
    },
    {
     "name": "stderr",
     "output_type": "stream",
     "text": [
      "10000it [03:22, 49.46it/s]\n"
     ]
    },
    {
     "name": "stdout",
     "output_type": "stream",
     "text": [
      "====> Epoch: 28 Average loss: 161.7420\n"
     ]
    },
    {
     "name": "stderr",
     "output_type": "stream",
     "text": [
      "10000it [03:18, 50.34it/s]\n"
     ]
    },
    {
     "name": "stdout",
     "output_type": "stream",
     "text": [
      "====> Epoch: 29 Average loss: 161.5257\n"
     ]
    },
    {
     "name": "stderr",
     "output_type": "stream",
     "text": [
      "10000it [03:18, 50.41it/s]\n"
     ]
    },
    {
     "name": "stdout",
     "output_type": "stream",
     "text": [
      "====> Epoch: 30 Average loss: 162.0129\n"
     ]
    },
    {
     "name": "stderr",
     "output_type": "stream",
     "text": [
      "10000it [03:19, 50.19it/s]\n"
     ]
    },
    {
     "name": "stdout",
     "output_type": "stream",
     "text": [
      "====> Epoch: 31 Average loss: 161.9546\n"
     ]
    },
    {
     "name": "stderr",
     "output_type": "stream",
     "text": [
      "10000it [03:21, 49.68it/s]\n"
     ]
    },
    {
     "name": "stdout",
     "output_type": "stream",
     "text": [
      "====> Epoch: 32 Average loss: 161.7272\n"
     ]
    },
    {
     "name": "stderr",
     "output_type": "stream",
     "text": [
      "10000it [03:16, 50.93it/s]\n"
     ]
    },
    {
     "name": "stdout",
     "output_type": "stream",
     "text": [
      "====> Epoch: 33 Average loss: 161.4751\n"
     ]
    },
    {
     "name": "stderr",
     "output_type": "stream",
     "text": [
      "10000it [03:17, 50.58it/s]\n"
     ]
    },
    {
     "name": "stdout",
     "output_type": "stream",
     "text": [
      "====> Epoch: 34 Average loss: 161.6779\n"
     ]
    },
    {
     "name": "stderr",
     "output_type": "stream",
     "text": [
      "10000it [03:23, 49.08it/s]\n"
     ]
    },
    {
     "name": "stdout",
     "output_type": "stream",
     "text": [
      "====> Epoch: 35 Average loss: 161.8816\n"
     ]
    },
    {
     "name": "stderr",
     "output_type": "stream",
     "text": [
      "10000it [03:30, 47.55it/s]\n"
     ]
    },
    {
     "name": "stdout",
     "output_type": "stream",
     "text": [
      "====> Epoch: 36 Average loss: 161.6291\n"
     ]
    },
    {
     "name": "stderr",
     "output_type": "stream",
     "text": [
      "10000it [03:25, 48.69it/s]\n"
     ]
    },
    {
     "name": "stdout",
     "output_type": "stream",
     "text": [
      "====> Epoch: 37 Average loss: 161.7402\n"
     ]
    },
    {
     "name": "stderr",
     "output_type": "stream",
     "text": [
      "10000it [03:32, 47.13it/s]\n"
     ]
    },
    {
     "name": "stdout",
     "output_type": "stream",
     "text": [
      "====> Epoch: 38 Average loss: 162.0344\n"
     ]
    },
    {
     "name": "stderr",
     "output_type": "stream",
     "text": [
      "10000it [03:22, 49.39it/s]\n"
     ]
    },
    {
     "name": "stdout",
     "output_type": "stream",
     "text": [
      "====> Epoch: 39 Average loss: 161.9783\n"
     ]
    },
    {
     "name": "stderr",
     "output_type": "stream",
     "text": [
      "10000it [03:36, 46.17it/s]\n"
     ]
    },
    {
     "name": "stdout",
     "output_type": "stream",
     "text": [
      "====> Epoch: 40 Average loss: 161.7459\n"
     ]
    },
    {
     "name": "stderr",
     "output_type": "stream",
     "text": [
      "10000it [03:19, 50.23it/s]\n"
     ]
    },
    {
     "name": "stdout",
     "output_type": "stream",
     "text": [
      "====> Epoch: 41 Average loss: 161.7540\n"
     ]
    },
    {
     "name": "stderr",
     "output_type": "stream",
     "text": [
      "10000it [03:18, 50.30it/s]\n"
     ]
    },
    {
     "name": "stdout",
     "output_type": "stream",
     "text": [
      "====> Epoch: 42 Average loss: 161.8520\n"
     ]
    },
    {
     "name": "stderr",
     "output_type": "stream",
     "text": [
      "10000it [03:20, 49.85it/s]\n"
     ]
    },
    {
     "name": "stdout",
     "output_type": "stream",
     "text": [
      "====> Epoch: 43 Average loss: 161.6945\n"
     ]
    },
    {
     "name": "stderr",
     "output_type": "stream",
     "text": [
      "10000it [03:18, 50.39it/s]\n"
     ]
    },
    {
     "name": "stdout",
     "output_type": "stream",
     "text": [
      "====> Epoch: 44 Average loss: 161.8865\n"
     ]
    },
    {
     "name": "stderr",
     "output_type": "stream",
     "text": [
      "10000it [03:21, 49.69it/s]\n"
     ]
    },
    {
     "name": "stdout",
     "output_type": "stream",
     "text": [
      "====> Epoch: 45 Average loss: 161.8767\n"
     ]
    },
    {
     "name": "stderr",
     "output_type": "stream",
     "text": [
      "10000it [03:20, 49.99it/s]\n"
     ]
    },
    {
     "name": "stdout",
     "output_type": "stream",
     "text": [
      "====> Epoch: 46 Average loss: 162.1042\n"
     ]
    },
    {
     "name": "stderr",
     "output_type": "stream",
     "text": [
      "10000it [03:19, 50.12it/s]\n"
     ]
    },
    {
     "name": "stdout",
     "output_type": "stream",
     "text": [
      "====> Epoch: 47 Average loss: 162.4790\n"
     ]
    },
    {
     "name": "stderr",
     "output_type": "stream",
     "text": [
      "10000it [03:21, 49.64it/s]\n"
     ]
    },
    {
     "name": "stdout",
     "output_type": "stream",
     "text": [
      "====> Epoch: 48 Average loss: 162.4296\n"
     ]
    },
    {
     "name": "stderr",
     "output_type": "stream",
     "text": [
      "10000it [03:36, 46.27it/s]\n"
     ]
    },
    {
     "name": "stdout",
     "output_type": "stream",
     "text": [
      "====> Epoch: 49 Average loss: 162.4674\n"
     ]
    }
   ],
   "source": [
    "# train the model\n",
    "for epoch in range(0, n_epochs):\n",
    "    train_vae(vae_model,train_loader, vae_optimizer, epoch, verbose=False)"
   ]
  },
  {
   "cell_type": "code",
   "execution_count": 41,
   "id": "2a41f498-dd9b-47a2-8e8d-7102f27443c0",
   "metadata": {},
   "outputs": [],
   "source": [
    "def test(vae, test_loader):\n",
    "    vae.eval()\n",
    "    test_loss= 0\n",
    "    with torch.no_grad():\n",
    "        for data in test_loader:\n",
    "            data = data.cuda()\n",
    "            recon, mu, log_var = vae(data)\n",
    "            \n",
    "            # sum up batch loss\n",
    "            test_loss += loss_function(recon, data, mu, log_var).item()\n",
    "        \n",
    "    test_loss /= len(test_loader.dataset)\n",
    "    print('====> Test set loss: {:.4f}'.format(test_loss))"
   ]
  },
  {
   "cell_type": "code",
   "execution_count": 50,
   "id": "a6b9468a-9898-49c2-84c3-409afba852bb",
   "metadata": {},
   "outputs": [
    {
     "data": {
      "image/png": "[encoded data removed]",
      "text/plain": [
       "<Figure size 720x432 with 10 Axes>"
      ]
     },
     "metadata": {},
     "output_type": "display_data"
    }
   ],
   "source": [
    "n_imgs = 10\n",
    "\n",
    "fig, ax = plt.subplots(2, 5, figsize=(10, 6))\n",
    "fig.patch.set_facecolor('black')\n",
    "ax = ax.ravel()\n",
    "with torch.no_grad():\n",
    "    if torch.cuda.is_available():\n",
    "        z = torch.randn(n_imgs, 2).cuda()\n",
    "        sample = vae.decoder(z).cuda()\n",
    "    else:\n",
    "        z = torch.randn(n_imgs, 2)\n",
    "        sample = vae.decoder(z)\n",
    "    for i, img in enumerate(sample.view(10, 1, 28, 28)):\n",
    "      img = img[0].numpy()\n",
    "      img = 1 * (img >= 0.5)\n",
    "      ax[i].imshow(img, cmap='gray')\n",
    "      ax[i].axis('off')\n",
    "plt.savefig('VAE generated digits.jpg')\n",
    "plt.show()"
   ]
  },
  {
   "cell_type": "markdown",
   "id": "ec46cecb-3dcb-4818-8bdf-396819fa92bb",
   "metadata": {},
   "source": [
    "## RBM"
   ]
  },
  {
   "cell_type": "code",
   "execution_count": 169,
   "id": "93376e0f-ed56-46f7-9fb3-4d65bdb388d6",
   "metadata": {},
   "outputs": [
    {
     "name": "stdout",
     "output_type": "stream",
     "text": [
      "Epoch 1 out of 10, loss: 0.03298737404979224\n"
     ]
    },
    {
     "data": {
      "image/png": "[encoded data removed]",
      "text/plain": [
       "<Figure size 432x288 with 1 Axes>"
      ]
     },
     "metadata": {
      "needs_background": "light"
     },
     "output_type": "display_data"
    },
    {
     "data": {
      "image/png": "[encoded data removed]",
      "text/plain": [
       "<Figure size 432x288 with 10 Axes>"
      ]
     },
     "metadata": {},
     "output_type": "display_data"
    }
   ],
   "source": [
    "# Valeurs des hyper paramètres et entrainement\n",
    "p = 784  # (égal à 28 * 28, la taille de l'image)\n",
    "q = 128\n",
    "rbm = RBM(p, q) # la taille du réseau est donc 784 * 128 = 100 352\n",
    "\n",
    "epochs = 10\n",
    "learning_rate = 0.01\n",
    "batch_size = 100\n",
    "\n",
    "RBM_trained, loss = rbm.train_RBM(X_train, epochs, learning_rate, batch_size)\n",
    "\n",
    "plt.plot(loss)\n",
    "plt.title(\"Évolution de la loss pendant l'entraînement\")\n",
    "plt.show()\n",
    "\n",
    "n_iter = 1000\n",
    "n_imgs = 10\n",
    "RBM_trained.generer_image_RBM(n_imgs, n_iter, dataset='mnist')"
   ]
  },
  {
   "cell_type": "code",
   "execution_count": 53,
   "id": "e113ae5e-9408-4887-8360-727c085881e6",
   "metadata": {},
   "outputs": [
    {
     "name": "stdout",
     "output_type": "stream",
     "text": [
      "Epoch 1 out of 100, loss: 0.01825636287511599\n",
      "Epoch 20 out of 100, loss: 0.008553759387578092\n",
      "Epoch 40 out of 100, loss: 0.007807746208001531\n",
      "Epoch 60 out of 100, loss: 0.007594098607762749\n",
      "Epoch 80 out of 100, loss: 0.007437081460741681\n",
      "Epoch 100 out of 100, loss: 0.007322773877689147\n"
     ]
    },
    {
     "data": {
      "image/png": "[encoded data removed]",
      "text/plain": [
       "<Figure size 432x288 with 1 Axes>"
      ]
     },
     "metadata": {
      "needs_background": "light"
     },
     "output_type": "display_data"
    },
    {
     "ename": "ValueError",
     "evalue": "cannot reshape array of size 784 into shape (20,16)",
     "output_type": "error",
     "traceback": [
      "\u001b[0;31m---------------------------------------------------------------------------\u001b[0m",
      "\u001b[0;31mValueError\u001b[0m                                Traceback (most recent call last)",
      "Cell \u001b[0;32mIn[53], line 18\u001b[0m\n\u001b[1;32m     16\u001b[0m n_iter \u001b[38;5;241m=\u001b[39m \u001b[38;5;241m1000\u001b[39m\n\u001b[1;32m     17\u001b[0m n_imgs \u001b[38;5;241m=\u001b[39m \u001b[38;5;241m10\u001b[39m\n\u001b[0;32m---> 18\u001b[0m \u001b[43mRBM_trained\u001b[49m\u001b[38;5;241;43m.\u001b[39;49m\u001b[43mgenerer_image_RBM\u001b[49m\u001b[43m(\u001b[49m\u001b[43mn_imgs\u001b[49m\u001b[43m,\u001b[49m\u001b[43m \u001b[49m\u001b[43mn_iter\u001b[49m\u001b[43m)\u001b[49m\n",
      "Cell \u001b[0;32mIn[7], line 86\u001b[0m, in \u001b[0;36mRBM.generer_image_RBM\u001b[0;34m(self, n_imgs, n_iter, dataset)\u001b[0m\n\u001b[1;32m     84\u001b[0m         _, v \u001b[38;5;241m=\u001b[39m \u001b[38;5;28mself\u001b[39m\u001b[38;5;241m.\u001b[39msortie_entree_RBM(h)\n\u001b[1;32m     85\u001b[0m     plt\u001b[38;5;241m.\u001b[39msubplot(n_imgs \u001b[38;5;241m/\u001b[39m\u001b[38;5;241m/\u001b[39m \u001b[38;5;241m5\u001b[39m, \u001b[38;5;241m5\u001b[39m, i \u001b[38;5;241m+\u001b[39m \u001b[38;5;241m1\u001b[39m)\n\u001b[0;32m---> 86\u001b[0m     plt\u001b[38;5;241m.\u001b[39mimshow(\u001b[43mv\u001b[49m\u001b[38;5;241;43m.\u001b[39;49m\u001b[43mreshape\u001b[49m\u001b[43m(\u001b[49m\u001b[43mshape\u001b[49m\u001b[43m)\u001b[49m, cmap\u001b[38;5;241m=\u001b[39m\u001b[38;5;124m'\u001b[39m\u001b[38;5;124mgray\u001b[39m\u001b[38;5;124m'\u001b[39m)\n\u001b[1;32m     87\u001b[0m     plt\u001b[38;5;241m.\u001b[39maxis(\u001b[38;5;124m'\u001b[39m\u001b[38;5;124moff\u001b[39m\u001b[38;5;124m'\u001b[39m)\n\u001b[1;32m     88\u001b[0m plt\u001b[38;5;241m.\u001b[39mshow()\n",
      "\u001b[0;31mValueError\u001b[0m: cannot reshape array of size 784 into shape (20,16)"
     ]
    },
    {
     "data": {
      "image/png": "[encoded data removed]",
      "text/plain": [
       "<Figure size 432x288 with 1 Axes>"
      ]
     },
     "metadata": {},
     "output_type": "display_data"
    }
   ],
   "source": [
    "# Valeurs des hyper paramètres et entrainement\n",
    "p = 784  # (égal à 28 * 28, la taille de l'image)\n",
    "q = 600\n",
    "rbm = RBM(p, q) # la taille du réseau est donc 784 * 600 = 470 400\n",
    "\n",
    "epochs = 100\n",
    "learning_rate = 0.01\n",
    "batch_size = 32\n",
    "\n",
    "RBM_trained, loss = rbm.train_RBM(X_train, epochs, learning_rate, batch_size)\n",
    "\n",
    "plt.plot(loss)\n",
    "plt.title(\"Évolution de la loss pendant l'entraînement\")\n",
    "plt.show()\n",
    "\n",
    "n_iter = 1000\n",
    "n_imgs = 10\n",
    "RBM_trained.generer_image_RBM(n_imgs, n_iter, dataset='mnist')"
   ]
  },
  {
   "cell_type": "code",
   "execution_count": 62,
   "id": "76343b95-2599-4f28-bb0d-627e47cd5396",
   "metadata": {
    "tags": []
   },
   "outputs": [
    {
     "data": {
      "image/png": "[encoded data removed]",
      "text/plain": [
       "<Figure size 432x288 with 10 Axes>"
      ]
     },
     "metadata": {},
     "output_type": "display_data"
    }
   ],
   "source": [
    "RBM_trained.generer_image_RBM(10, n_iter, dataset='mnist')"
   ]
  },
  {
   "cell_type": "markdown",
   "id": "ff664f50-f2df-41f2-a0c3-d46741716507",
   "metadata": {},
   "source": [
    "## DBN"
   ]
  },
  {
   "cell_type": "code",
   "execution_count": 127,
   "id": "68b68c16-2f4a-47bb-a732-9ca8b13ea4f3",
   "metadata": {},
   "outputs": [
    {
     "data": {
      "text/plain": [
       "313600"
      ]
     },
     "execution_count": 127,
     "metadata": {},
     "output_type": "execute_result"
    }
   ],
   "source": [
    "784 * 400"
   ]
  },
  {
   "cell_type": "code",
   "execution_count": 56,
   "id": "f5a353ff-0798-4485-9a71-92b22a4a0898",
   "metadata": {},
   "outputs": [
    {
     "name": "stdout",
     "output_type": "stream",
     "text": [
      "Epoch 1 out of 100, loss: 0.028911944026107292\n",
      "Epoch 20 out of 100, loss: 0.01150595120667777\n",
      "Epoch 40 out of 100, loss: 0.00980028046518538\n",
      "Epoch 60 out of 100, loss: 0.008958235595504821\n",
      "Epoch 80 out of 100, loss: 0.008397633052611186\n",
      "Epoch 100 out of 100, loss: 0.008001860003754994\n",
      "Epoch 1 out of 100, loss: 0.07775121578445368\n",
      "Epoch 20 out of 100, loss: 0.03833868537877844\n",
      "Epoch 40 out of 100, loss: 0.035748712257668486\n",
      "Epoch 60 out of 100, loss: 0.03488045339418498\n",
      "Epoch 80 out of 100, loss: 0.03443786586216037\n",
      "Epoch 100 out of 100, loss: 0.034124851113424955\n",
      "Epoch 1 out of 100, loss: 0.08889473019207386\n",
      "Epoch 20 out of 100, loss: 0.05609484164471694\n",
      "Epoch 40 out of 100, loss: 0.05336106036727556\n",
      "Epoch 60 out of 100, loss: 0.05225250255940687\n",
      "Epoch 80 out of 100, loss: 0.051424344575555975\n",
      "Epoch 100 out of 100, loss: 0.05081433415292731\n"
     ]
    },
    {
     "data": {
      "image/png": "[encoded data removed]",
      "text/plain": [
       "<Figure size 432x288 with 10 Axes>"
      ]
     },
     "metadata": {},
     "output_type": "display_data"
    }
   ],
   "source": [
    "neurons = [X_train[0].shape[0], 400, 300, 100] \n",
    "# taille du réseau: 784 * 400 + 400 * 300 + 300 * 100 = 463 600\n",
    "dbn = DBN(neurons)\n",
    "dbn, losses = dbn.pretrain_DBN(X_train, n_epoch=100, lr_rate=0.001)\n",
    "n_iter = 1000\n",
    "n_imgs = 10\n",
    "generated = dbn.generer_image_DBN(n_imgs, n_iter=n_iter, dataset='mnist')"
   ]
  },
  {
   "cell_type": "code",
   "execution_count": 61,
   "id": "162c6aa1-4f13-4b39-9920-2e9f0db462b4",
   "metadata": {},
   "outputs": [
    {
     "data": {
      "image/png": "[encoded data removed]",
      "text/plain": [
       "<Figure size 432x288 with 30 Axes>"
      ]
     },
     "metadata": {},
     "output_type": "display_data"
    }
   ],
   "source": [
    "generated = dbn.generer_image_DBN(30, n_iter=n_iter, dataset='mnist')"
   ]
  },
  {
   "cell_type": "markdown",
   "id": "00c86904-2ab0-406a-9b91-5066e26cc4b4",
   "metadata": {},
   "source": [
    "As we can see here, our VAE seems to work better than our RBM. We can say the same for the DBN."
   ]
  },
  {
   "cell_type": "code",
   "execution_count": null,
   "id": "4684a31e-47fa-4ee7-9b5b-7a8164207518",
   "metadata": {},
   "outputs": [],
   "source": []
  }
 ],
 "metadata": {
  "kernelspec": {
   "display_name": "Python 3 (ipykernel)",
   "language": "python",
   "name": "python3"
  },
  "language_info": {
   "codemirror_mode": {
    "name": "ipython",
    "version": 3
   },
   "file_extension": ".py",
   "mimetype": "text/x-python",
   "name": "python",
   "nbconvert_exporter": "python",
   "pygments_lexer": "ipython3",
   "version": "3.9.7"
  }
 },
 "nbformat": 4,
 "nbformat_minor": 5
}
